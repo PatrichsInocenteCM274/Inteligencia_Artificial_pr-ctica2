{
 "cells": [
  {
   "cell_type": "code",
   "execution_count": 1,
   "id": "a26460f3",
   "metadata": {},
   "outputs": [],
   "source": [
    "import pandas as pd"
   ]
  },
  {
   "cell_type": "markdown",
   "id": "9d150b78",
   "metadata": {},
   "source": [
    "Leemos nuestra data ('Data_Reduce'), y lo almacenamos en df\n",
    "============="
   ]
  },
  {
   "cell_type": "code",
   "execution_count": 2,
   "id": "2024d216",
   "metadata": {},
   "outputs": [],
   "source": [
    "df = pd.read_csv('Data_Reduce.csv')"
   ]
  },
  {
   "cell_type": "markdown",
   "id": "9a1aec2e",
   "metadata": {},
   "source": [
    "Eliminamos los valores NaN\n",
    "-------------"
   ]
  },
  {
   "cell_type": "code",
   "execution_count": 3,
   "id": "a32c91e7",
   "metadata": {},
   "outputs": [],
   "source": [
    "data_sin_nan = df.dropna(axis=0)"
   ]
  },
  {
   "cell_type": "markdown",
   "id": "35c1920f",
   "metadata": {},
   "source": [
    "Mostramos que no haya valores NaN\n",
    "-------------------"
   ]
  },
  {
   "cell_type": "code",
   "execution_count": 4,
   "id": "2c0dac03",
   "metadata": {},
   "outputs": [
    {
     "data": {
      "text/plain": [
       "fare_amount          0\n",
       "pickup_datetime      0\n",
       "pickup_longitude     0\n",
       "pickup_latitude      0\n",
       "dropoff_longitude    0\n",
       "dropoff_latitude     0\n",
       "passenger_count      0\n",
       "dtype: int64"
      ]
     },
     "execution_count": 4,
     "metadata": {},
     "output_type": "execute_result"
    }
   ],
   "source": [
    "data_sin_nan.isnull().sum()"
   ]
  },
  {
   "cell_type": "markdown",
   "id": "8b9e7c59",
   "metadata": {},
   "source": [
    "Mostramos la data\n",
    "------------------"
   ]
  },
  {
   "cell_type": "code",
   "execution_count": 5,
   "id": "235cbe35",
   "metadata": {},
   "outputs": [
    {
     "data": {
      "text/html": [
       "<div>\n",
       "<style scoped>\n",
       "    .dataframe tbody tr th:only-of-type {\n",
       "        vertical-align: middle;\n",
       "    }\n",
       "\n",
       "    .dataframe tbody tr th {\n",
       "        vertical-align: top;\n",
       "    }\n",
       "\n",
       "    .dataframe thead th {\n",
       "        text-align: right;\n",
       "    }\n",
       "</style>\n",
       "<table border=\"1\" class=\"dataframe\">\n",
       "  <thead>\n",
       "    <tr style=\"text-align: right;\">\n",
       "      <th></th>\n",
       "      <th>fare_amount</th>\n",
       "      <th>pickup_datetime</th>\n",
       "      <th>pickup_longitude</th>\n",
       "      <th>pickup_latitude</th>\n",
       "      <th>dropoff_longitude</th>\n",
       "      <th>dropoff_latitude</th>\n",
       "      <th>passenger_count</th>\n",
       "    </tr>\n",
       "  </thead>\n",
       "  <tbody>\n",
       "    <tr>\n",
       "      <th>0</th>\n",
       "      <td>4.5</td>\n",
       "      <td>733573</td>\n",
       "      <td>-73.844311</td>\n",
       "      <td>40.721319</td>\n",
       "      <td>-73.841610</td>\n",
       "      <td>40.712278</td>\n",
       "      <td>1</td>\n",
       "    </tr>\n",
       "    <tr>\n",
       "      <th>1</th>\n",
       "      <td>16.9</td>\n",
       "      <td>733777</td>\n",
       "      <td>-74.016048</td>\n",
       "      <td>40.711303</td>\n",
       "      <td>-73.979268</td>\n",
       "      <td>40.782004</td>\n",
       "      <td>1</td>\n",
       "    </tr>\n",
       "    <tr>\n",
       "      <th>2</th>\n",
       "      <td>5.7</td>\n",
       "      <td>734367</td>\n",
       "      <td>-73.982738</td>\n",
       "      <td>40.761270</td>\n",
       "      <td>-73.991242</td>\n",
       "      <td>40.750562</td>\n",
       "      <td>2</td>\n",
       "    </tr>\n",
       "    <tr>\n",
       "      <th>3</th>\n",
       "      <td>7.7</td>\n",
       "      <td>734614</td>\n",
       "      <td>-73.987130</td>\n",
       "      <td>40.733143</td>\n",
       "      <td>-73.991567</td>\n",
       "      <td>40.758092</td>\n",
       "      <td>1</td>\n",
       "    </tr>\n",
       "    <tr>\n",
       "      <th>4</th>\n",
       "      <td>5.3</td>\n",
       "      <td>733840</td>\n",
       "      <td>-73.968095</td>\n",
       "      <td>40.768008</td>\n",
       "      <td>-73.956655</td>\n",
       "      <td>40.783762</td>\n",
       "      <td>1</td>\n",
       "    </tr>\n",
       "    <tr>\n",
       "      <th>...</th>\n",
       "      <td>...</td>\n",
       "      <td>...</td>\n",
       "      <td>...</td>\n",
       "      <td>...</td>\n",
       "      <td>...</td>\n",
       "      <td>...</td>\n",
       "      <td>...</td>\n",
       "    </tr>\n",
       "    <tr>\n",
       "      <th>55423851</th>\n",
       "      <td>14.0</td>\n",
       "      <td>735307</td>\n",
       "      <td>-74.005272</td>\n",
       "      <td>40.740027</td>\n",
       "      <td>-73.963280</td>\n",
       "      <td>40.762555</td>\n",
       "      <td>1</td>\n",
       "    </tr>\n",
       "    <tr>\n",
       "      <th>55423852</th>\n",
       "      <td>4.2</td>\n",
       "      <td>733490</td>\n",
       "      <td>-73.957784</td>\n",
       "      <td>40.765530</td>\n",
       "      <td>-73.951640</td>\n",
       "      <td>40.773959</td>\n",
       "      <td>1</td>\n",
       "    </tr>\n",
       "    <tr>\n",
       "      <th>55423853</th>\n",
       "      <td>14.1</td>\n",
       "      <td>734229</td>\n",
       "      <td>-73.970505</td>\n",
       "      <td>40.752325</td>\n",
       "      <td>-73.960537</td>\n",
       "      <td>40.797342</td>\n",
       "      <td>1</td>\n",
       "    </tr>\n",
       "    <tr>\n",
       "      <th>55423854</th>\n",
       "      <td>28.9</td>\n",
       "      <td>734436</td>\n",
       "      <td>-73.980901</td>\n",
       "      <td>40.764629</td>\n",
       "      <td>-73.870605</td>\n",
       "      <td>40.773963</td>\n",
       "      <td>1</td>\n",
       "    </tr>\n",
       "    <tr>\n",
       "      <th>55423855</th>\n",
       "      <td>7.5</td>\n",
       "      <td>735579</td>\n",
       "      <td>-73.969722</td>\n",
       "      <td>40.797668</td>\n",
       "      <td>-73.970885</td>\n",
       "      <td>40.783313</td>\n",
       "      <td>1</td>\n",
       "    </tr>\n",
       "  </tbody>\n",
       "</table>\n",
       "<p>55423480 rows × 7 columns</p>\n",
       "</div>"
      ],
      "text/plain": [
       "          fare_amount  pickup_datetime  pickup_longitude  pickup_latitude  \\\n",
       "0                 4.5           733573        -73.844311        40.721319   \n",
       "1                16.9           733777        -74.016048        40.711303   \n",
       "2                 5.7           734367        -73.982738        40.761270   \n",
       "3                 7.7           734614        -73.987130        40.733143   \n",
       "4                 5.3           733840        -73.968095        40.768008   \n",
       "...               ...              ...               ...              ...   \n",
       "55423851         14.0           735307        -74.005272        40.740027   \n",
       "55423852          4.2           733490        -73.957784        40.765530   \n",
       "55423853         14.1           734229        -73.970505        40.752325   \n",
       "55423854         28.9           734436        -73.980901        40.764629   \n",
       "55423855          7.5           735579        -73.969722        40.797668   \n",
       "\n",
       "          dropoff_longitude  dropoff_latitude  passenger_count  \n",
       "0                -73.841610         40.712278                1  \n",
       "1                -73.979268         40.782004                1  \n",
       "2                -73.991242         40.750562                2  \n",
       "3                -73.991567         40.758092                1  \n",
       "4                -73.956655         40.783762                1  \n",
       "...                     ...               ...              ...  \n",
       "55423851         -73.963280         40.762555                1  \n",
       "55423852         -73.951640         40.773959                1  \n",
       "55423853         -73.960537         40.797342                1  \n",
       "55423854         -73.870605         40.773963                1  \n",
       "55423855         -73.970885         40.783313                1  \n",
       "\n",
       "[55423480 rows x 7 columns]"
      ]
     },
     "execution_count": 5,
     "metadata": {},
     "output_type": "execute_result"
    }
   ],
   "source": [
    "data_sin_nan"
   ]
  },
  {
   "cell_type": "markdown",
   "id": "013d4511",
   "metadata": {},
   "source": [
    "Vemos los tipos de datos que contiene nuestra data\n",
    "--------------"
   ]
  },
  {
   "cell_type": "code",
   "execution_count": 6,
   "id": "6b643e73",
   "metadata": {},
   "outputs": [
    {
     "data": {
      "text/plain": [
       "fare_amount          float64\n",
       "pickup_datetime        int64\n",
       "pickup_longitude     float64\n",
       "pickup_latitude      float64\n",
       "dropoff_longitude    float64\n",
       "dropoff_latitude     float64\n",
       "passenger_count        int64\n",
       "dtype: object"
      ]
     },
     "execution_count": 6,
     "metadata": {},
     "output_type": "execute_result"
    }
   ],
   "source": [
    "data_sin_nan.dtypes"
   ]
  },
  {
   "cell_type": "markdown",
   "id": "55fb63f2",
   "metadata": {},
   "source": [
    "Seguidamente probé cambiar el tipo de dato con float64 como bajando kbs en el almacenamiento pero no tuve éxito porque hice pruebas, así que lo dejé solo como comentarios que se muestran a continuación:\n",
    "--------------"
   ]
  },
  {
   "cell_type": "code",
   "execution_count": null,
   "id": "c7ac27d5",
   "metadata": {},
   "outputs": [],
   "source": [
    "#data_sin_nan.loc[:, data_sin_nan.dtypes == 'float64'] = data_sin_nan.loc[:, data_sin_nan.dtypes == 'float64'].astype('float32')\n",
    "#data_sin_nan.loc[:, data_sin_nan.dtypes == 'int64'] = data_sin_nan.loc[:, data_sin_nan.dtypes == 'int64'].astype('int32')"
   ]
  },
  {
   "cell_type": "code",
   "execution_count": null,
   "id": "28bf053f",
   "metadata": {},
   "outputs": [],
   "source": [
    "data_sin_nan.dtypes\n"
   ]
  },
  {
   "cell_type": "code",
   "execution_count": null,
   "id": "b302158b",
   "metadata": {},
   "outputs": [],
   "source": [
    "data_sin_nan"
   ]
  },
  {
   "cell_type": "markdown",
   "id": "43de8ec0",
   "metadata": {},
   "source": [
    "Examinamos si tiene valores \"Infinity\"\n",
    "------------------"
   ]
  },
  {
   "cell_type": "code",
   "execution_count": 8,
   "id": "f73c1eb3",
   "metadata": {},
   "outputs": [
    {
     "name": "stdout",
     "output_type": "stream",
     "text": [
      "printing the count of infinity values\n",
      "It contains 0 infinite values\n"
     ]
    }
   ],
   "source": [
    "import numpy as np\n",
    "print(\"printing the count of infinity values\")\n",
    "  \n",
    "count = np.isinf(data_sin_nan).values.sum()\n",
    "print(\"It contains \" + str(count) + \" infinite values\")"
   ]
  },
  {
   "cell_type": "markdown",
   "id": "a303b0eb",
   "metadata": {},
   "source": [
    "Debido a la gran cantidad de data usaremos: 10^7 datos\n",
    "----------------------------"
   ]
  },
  {
   "cell_type": "code",
   "execution_count": 9,
   "id": "460c7503",
   "metadata": {},
   "outputs": [],
   "source": [
    "data_limit = data_sin_nan.iloc[0:10000000]"
   ]
  },
  {
   "cell_type": "code",
   "execution_count": 10,
   "id": "22ceb198",
   "metadata": {},
   "outputs": [
    {
     "data": {
      "text/html": [
       "<div>\n",
       "<style scoped>\n",
       "    .dataframe tbody tr th:only-of-type {\n",
       "        vertical-align: middle;\n",
       "    }\n",
       "\n",
       "    .dataframe tbody tr th {\n",
       "        vertical-align: top;\n",
       "    }\n",
       "\n",
       "    .dataframe thead th {\n",
       "        text-align: right;\n",
       "    }\n",
       "</style>\n",
       "<table border=\"1\" class=\"dataframe\">\n",
       "  <thead>\n",
       "    <tr style=\"text-align: right;\">\n",
       "      <th></th>\n",
       "      <th>fare_amount</th>\n",
       "      <th>pickup_datetime</th>\n",
       "      <th>pickup_longitude</th>\n",
       "      <th>pickup_latitude</th>\n",
       "      <th>dropoff_longitude</th>\n",
       "      <th>dropoff_latitude</th>\n",
       "      <th>passenger_count</th>\n",
       "    </tr>\n",
       "  </thead>\n",
       "  <tbody>\n",
       "    <tr>\n",
       "      <th>0</th>\n",
       "      <td>4.5</td>\n",
       "      <td>733573</td>\n",
       "      <td>-73.844311</td>\n",
       "      <td>40.721319</td>\n",
       "      <td>-73.841610</td>\n",
       "      <td>40.712278</td>\n",
       "      <td>1</td>\n",
       "    </tr>\n",
       "    <tr>\n",
       "      <th>1</th>\n",
       "      <td>16.9</td>\n",
       "      <td>733777</td>\n",
       "      <td>-74.016048</td>\n",
       "      <td>40.711303</td>\n",
       "      <td>-73.979268</td>\n",
       "      <td>40.782004</td>\n",
       "      <td>1</td>\n",
       "    </tr>\n",
       "    <tr>\n",
       "      <th>2</th>\n",
       "      <td>5.7</td>\n",
       "      <td>734367</td>\n",
       "      <td>-73.982738</td>\n",
       "      <td>40.761270</td>\n",
       "      <td>-73.991242</td>\n",
       "      <td>40.750562</td>\n",
       "      <td>2</td>\n",
       "    </tr>\n",
       "    <tr>\n",
       "      <th>3</th>\n",
       "      <td>7.7</td>\n",
       "      <td>734614</td>\n",
       "      <td>-73.987130</td>\n",
       "      <td>40.733143</td>\n",
       "      <td>-73.991567</td>\n",
       "      <td>40.758092</td>\n",
       "      <td>1</td>\n",
       "    </tr>\n",
       "    <tr>\n",
       "      <th>4</th>\n",
       "      <td>5.3</td>\n",
       "      <td>733840</td>\n",
       "      <td>-73.968095</td>\n",
       "      <td>40.768008</td>\n",
       "      <td>-73.956655</td>\n",
       "      <td>40.783762</td>\n",
       "      <td>1</td>\n",
       "    </tr>\n",
       "    <tr>\n",
       "      <th>...</th>\n",
       "      <td>...</td>\n",
       "      <td>...</td>\n",
       "      <td>...</td>\n",
       "      <td>...</td>\n",
       "      <td>...</td>\n",
       "      <td>...</td>\n",
       "      <td>...</td>\n",
       "    </tr>\n",
       "    <tr>\n",
       "      <th>10000064</th>\n",
       "      <td>4.0</td>\n",
       "      <td>735352</td>\n",
       "      <td>-73.989847</td>\n",
       "      <td>40.762657</td>\n",
       "      <td>-73.995945</td>\n",
       "      <td>40.760692</td>\n",
       "      <td>1</td>\n",
       "    </tr>\n",
       "    <tr>\n",
       "      <th>10000065</th>\n",
       "      <td>2.9</td>\n",
       "      <td>733613</td>\n",
       "      <td>-73.990640</td>\n",
       "      <td>40.749214</td>\n",
       "      <td>-73.993469</td>\n",
       "      <td>40.746321</td>\n",
       "      <td>1</td>\n",
       "    </tr>\n",
       "    <tr>\n",
       "      <th>10000066</th>\n",
       "      <td>5.3</td>\n",
       "      <td>734446</td>\n",
       "      <td>-73.987382</td>\n",
       "      <td>40.728422</td>\n",
       "      <td>-73.977192</td>\n",
       "      <td>40.741271</td>\n",
       "      <td>1</td>\n",
       "    </tr>\n",
       "    <tr>\n",
       "      <th>10000067</th>\n",
       "      <td>6.5</td>\n",
       "      <td>734486</td>\n",
       "      <td>-73.973543</td>\n",
       "      <td>40.757845</td>\n",
       "      <td>-73.976307</td>\n",
       "      <td>40.759955</td>\n",
       "      <td>1</td>\n",
       "    </tr>\n",
       "    <tr>\n",
       "      <th>10000068</th>\n",
       "      <td>7.0</td>\n",
       "      <td>734958</td>\n",
       "      <td>-74.008172</td>\n",
       "      <td>40.738697</td>\n",
       "      <td>-73.999390</td>\n",
       "      <td>40.723137</td>\n",
       "      <td>5</td>\n",
       "    </tr>\n",
       "  </tbody>\n",
       "</table>\n",
       "<p>10000000 rows × 7 columns</p>\n",
       "</div>"
      ],
      "text/plain": [
       "          fare_amount  pickup_datetime  pickup_longitude  pickup_latitude  \\\n",
       "0                 4.5           733573        -73.844311        40.721319   \n",
       "1                16.9           733777        -74.016048        40.711303   \n",
       "2                 5.7           734367        -73.982738        40.761270   \n",
       "3                 7.7           734614        -73.987130        40.733143   \n",
       "4                 5.3           733840        -73.968095        40.768008   \n",
       "...               ...              ...               ...              ...   \n",
       "10000064          4.0           735352        -73.989847        40.762657   \n",
       "10000065          2.9           733613        -73.990640        40.749214   \n",
       "10000066          5.3           734446        -73.987382        40.728422   \n",
       "10000067          6.5           734486        -73.973543        40.757845   \n",
       "10000068          7.0           734958        -74.008172        40.738697   \n",
       "\n",
       "          dropoff_longitude  dropoff_latitude  passenger_count  \n",
       "0                -73.841610         40.712278                1  \n",
       "1                -73.979268         40.782004                1  \n",
       "2                -73.991242         40.750562                2  \n",
       "3                -73.991567         40.758092                1  \n",
       "4                -73.956655         40.783762                1  \n",
       "...                     ...               ...              ...  \n",
       "10000064         -73.995945         40.760692                1  \n",
       "10000065         -73.993469         40.746321                1  \n",
       "10000066         -73.977192         40.741271                1  \n",
       "10000067         -73.976307         40.759955                1  \n",
       "10000068         -73.999390         40.723137                5  \n",
       "\n",
       "[10000000 rows x 7 columns]"
      ]
     },
     "execution_count": 10,
     "metadata": {},
     "output_type": "execute_result"
    }
   ],
   "source": [
    "data_limit"
   ]
  },
  {
   "cell_type": "code",
   "execution_count": 11,
   "id": "2f158fa1",
   "metadata": {},
   "outputs": [
    {
     "data": {
      "text/plain": [
       "fare_amount          0\n",
       "pickup_datetime      0\n",
       "pickup_longitude     0\n",
       "pickup_latitude      0\n",
       "dropoff_longitude    0\n",
       "dropoff_latitude     0\n",
       "passenger_count      0\n",
       "dtype: int64"
      ]
     },
     "execution_count": 11,
     "metadata": {},
     "output_type": "execute_result"
    }
   ],
   "source": [
    "data_limit.isnull().sum()"
   ]
  },
  {
   "cell_type": "code",
   "execution_count": 12,
   "id": "0b7e4ea9",
   "metadata": {},
   "outputs": [],
   "source": [
    "import matplotlib.pyplot as plt\n",
    "\n",
    "from sklearn.linear_model import LogisticRegression\n",
    "from sklearn.ensemble import AdaBoostClassifier\n",
    "from sklearn.ensemble import RandomForestClassifier\n",
    "from sklearn.ensemble import GradientBoostingClassifier\n",
    "\n",
    "from sklearn.metrics import roc_auc_score\n",
    "\n",
    "from sklearn.model_selection import train_test_split\n",
    "\n",
    "%matplotlib inline"
   ]
  },
  {
   "cell_type": "code",
   "execution_count": 13,
   "id": "a6856f2a",
   "metadata": {},
   "outputs": [],
   "source": [
    "from sklearn.preprocessing import StandardScaler\n",
    "import sklearn\n",
    "from sklearn.preprocessing import Normalizer\n",
    "from sklearn import svm\n",
    "from sklearn.preprocessing import MinMaxScaler"
   ]
  },
  {
   "cell_type": "code",
   "execution_count": 14,
   "id": "cde1fc39",
   "metadata": {},
   "outputs": [],
   "source": [
    "predictores = ['pickup_datetime','pickup_longitude','pickup_latitude','dropoff_longitude','dropoff_latitude','passenger_count']\n",
    "salida = 'fare_amount'"
   ]
  },
  {
   "cell_type": "code",
   "execution_count": 24,
   "id": "4294ae0f",
   "metadata": {},
   "outputs": [],
   "source": [
    "X_trainval, X_test, y_trainval, y_test = train_test_split(data_limit[predictores],data_limit[salida], test_size=0.10, random_state=0)"
   ]
  },
  {
   "cell_type": "markdown",
   "id": "381584d7",
   "metadata": {},
   "source": [
    "**Optamos por probar con un escalado pero no tuvimos un buen resultado**"
   ]
  },
  {
   "cell_type": "code",
   "execution_count": 16,
   "id": "3ac77e4a",
   "metadata": {},
   "outputs": [
    {
     "data": {
      "text/plain": [
       "MinMaxScaler()"
      ]
     },
     "execution_count": 16,
     "metadata": {},
     "output_type": "execute_result"
    }
   ],
   "source": [
    "scaler = MinMaxScaler()\n",
    "scaler.fit(X_trainval)"
   ]
  },
  {
   "cell_type": "code",
   "execution_count": 17,
   "id": "1352b32b",
   "metadata": {},
   "outputs": [],
   "source": [
    "X_train_escalado = scaler.transform(X_trainval)\n",
    "X_test_escalado= scaler.transform(X_test)"
   ]
  },
  {
   "cell_type": "code",
   "execution_count": null,
   "id": "97370347",
   "metadata": {},
   "outputs": [],
   "source": [
    "from sklearn.ensemble import GradientBoostingRegressor\n",
    "reg = GradientBoostingRegressor(max_depth=8, random_state=0)\n",
    "reg.fit(X_train_escalado,y_trainval)"
   ]
  },
  {
   "cell_type": "code",
   "execution_count": 23,
   "id": "cd876362",
   "metadata": {},
   "outputs": [
    {
     "data": {
      "text/plain": [
       "0.09712625146403742"
      ]
     },
     "execution_count": 23,
     "metadata": {},
     "output_type": "execute_result"
    }
   ],
   "source": [
    "reg.score(X_test_escalado, y_test)"
   ]
  },
  {
   "cell_type": "markdown",
   "id": "f4d6713a",
   "metadata": {},
   "source": [
    "**Luego lo realicé sin escalado y obtuvimos una puntuación considerablemente buena**"
   ]
  },
  {
   "cell_type": "code",
   "execution_count": 25,
   "id": "aba679ef",
   "metadata": {},
   "outputs": [
    {
     "data": {
      "text/plain": [
       "GradientBoostingRegressor(max_depth=8, random_state=0)"
      ]
     },
     "execution_count": 25,
     "metadata": {},
     "output_type": "execute_result"
    }
   ],
   "source": [
    "from sklearn.ensemble import GradientBoostingRegressor\n",
    "reg = GradientBoostingRegressor(max_depth=8, random_state=0)\n",
    "reg.fit(X_trainval,y_trainval)"
   ]
  },
  {
   "cell_type": "code",
   "execution_count": 26,
   "id": "be81fac5",
   "metadata": {},
   "outputs": [
    {
     "data": {
      "text/plain": [
       "0.805864127781435"
      ]
     },
     "execution_count": 26,
     "metadata": {},
     "output_type": "execute_result"
    }
   ],
   "source": [
    "reg.score(X_test, y_test)"
   ]
  }
 ],
 "metadata": {
  "kernelspec": {
   "display_name": "Python 3",
   "language": "python",
   "name": "python3"
  },
  "language_info": {
   "codemirror_mode": {
    "name": "ipython",
    "version": 3
   },
   "file_extension": ".py",
   "mimetype": "text/x-python",
   "name": "python",
   "nbconvert_exporter": "python",
   "pygments_lexer": "ipython3",
   "version": "3.8.8"
  }
 },
 "nbformat": 4,
 "nbformat_minor": 5
}
