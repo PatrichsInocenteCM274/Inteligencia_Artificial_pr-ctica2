{
 "cells": [
  {
   "cell_type": "markdown",
   "id": "24ed4638",
   "metadata": {},
   "source": [
    "## SEPARACIÓN DE DATA COMPLETA POR AÑO"
   ]
  },
  {
   "cell_type": "code",
   "execution_count": 2,
   "id": "89b099a2",
   "metadata": {},
   "outputs": [],
   "source": [
    "import pandas as pd\n",
    "from sys import getsizeof"
   ]
  },
  {
   "cell_type": "markdown",
   "id": "9868dce7",
   "metadata": {},
   "source": [
    "#### En primer no  podemos cargar en este caso toda la data, por lo que el proceso se facilitará mediante el uso de chunks. Seccionando la carga en cantidades mas pequeñas y manejables."
   ]
  },
  {
   "cell_type": "code",
   "execution_count": 2,
   "id": "7595cf8b",
   "metadata": {},
   "outputs": [
    {
     "name": "stdout",
     "output_type": "stream",
     "text": [
      "progreso:  0  chunks.\n",
      "progreso:  10  chunks.\n",
      "progreso:  20  chunks.\n",
      "progreso:  30  chunks.\n",
      "progreso:  40  chunks.\n",
      "progreso:  50  chunks.\n",
      "progreso:  60  chunks.\n",
      "progreso:  70  chunks.\n",
      "progreso:  80  chunks.\n",
      "progreso:  90  chunks.\n",
      "progreso:  100  chunks.\n",
      "progreso:  110  chunks.\n",
      "progreso:  120  chunks.\n",
      "progreso:  130  chunks.\n",
      "progreso:  140  chunks.\n",
      "progreso:  150  chunks.\n",
      "progreso:  160  chunks.\n",
      "progreso:  170  chunks.\n",
      "progreso:  180  chunks.\n",
      "progreso:  190  chunks.\n",
      "progreso:  200  chunks.\n",
      "progreso:  210  chunks.\n",
      "progreso:  220  chunks.\n",
      "progreso:  230  chunks.\n",
      "progreso:  240  chunks.\n",
      "progreso:  250  chunks.\n",
      "progreso:  260  chunks.\n",
      "progreso:  270  chunks.\n",
      "progreso:  280  chunks.\n",
      "progreso:  290  chunks.\n",
      "progreso:  300  chunks.\n",
      "progreso:  310  chunks.\n",
      "progreso:  320  chunks.\n",
      "progreso:  330  chunks.\n",
      "progreso:  340  chunks.\n",
      "progreso:  350  chunks.\n",
      "progreso:  360  chunks.\n",
      "progreso:  370  chunks.\n",
      "progreso:  380  chunks.\n",
      "progreso:  390  chunks.\n",
      "progreso:  400  chunks.\n",
      "progreso:  410  chunks.\n",
      "progreso:  420  chunks.\n",
      "progreso:  430  chunks.\n",
      "progreso:  440  chunks.\n",
      "progreso:  450  chunks.\n",
      "progreso:  460  chunks.\n",
      "progreso:  470  chunks.\n",
      "progreso:  480  chunks.\n",
      "progreso:  490  chunks.\n",
      "progreso:  500  chunks.\n",
      "progreso:  510  chunks.\n",
      "progreso:  520  chunks.\n",
      "progreso:  530  chunks.\n",
      "progreso:  540  chunks.\n",
      "progreso:  550  chunks.\n",
      "Finalizo separación.\n"
     ]
    }
   ],
   "source": [
    "cont=0\n",
    "for chunk in pd.read_csv('train.csv', chunksize=100000):\n",
    "        if cont%10==0:\n",
    "            print(\"progreso: \",cont,\" chunks.\")\n",
    "        chunk['key']=chunk['key'].str.split('-',n=1,expand=True)[0]\n",
    "        groups_chunk = chunk.groupby(chunk['key'])\n",
    "        for i in range(len(chunk.key.unique())):\n",
    "               nombre_csv=chunk.key.unique()[i]+\".csv\"\n",
    "               if cont==0:\n",
    "                   groups_chunk.get_group(chunk.key.unique()[i]).to_csv(nombre_csv,index=False,mode='a')\n",
    "               else:\n",
    "                   groups_chunk.get_group(chunk.key.unique()[i]).to_csv(nombre_csv,index=False,header=False,mode='a')\n",
    "        cont=cont+1\n",
    "print(\"Finalizo separación.\")"
   ]
  },
  {
   "cell_type": "code",
   "execution_count": 4,
   "id": "ed8588ee",
   "metadata": {},
   "outputs": [
    {
     "data": {
      "text/plain": [
       "['train.csv',\n",
       " '2010.csv',\n",
       " '.ipynb_checkpoints',\n",
       " '2009.csv',\n",
       " '2011.csv',\n",
       " '2013.csv',\n",
       " '2014.csv',\n",
       " 'Separacion de Registros por año (DATA COMPLETA).ipynb',\n",
       " '2012.csv',\n",
       " '2015.csv']"
      ]
     },
     "execution_count": 4,
     "metadata": {},
     "output_type": "execute_result"
    }
   ],
   "source": [
    "import os\n",
    "contenido = os.listdir('/home/adr/my_project_dir/PracticaCalificada2-CC421/separacion_completa')\n",
    "contenido"
   ]
  },
  {
   "cell_type": "code",
   "execution_count": 6,
   "id": "9cc81d6a",
   "metadata": {},
   "outputs": [
    {
     "name": "stdout",
     "output_type": "stream",
     "text": [
      "2009 : 8543166\n",
      "2010 : 8354997\n",
      "2011 : 8841346\n",
      "2012 : 8919666\n",
      "2013 : 8655190\n",
      "2014 : 8252682\n",
      "2015 : 3856809\n",
      "Suma total de Registros:  55423856\n"
     ]
    }
   ],
   "source": [
    "años=['2009','2010','2011','2012','2013','2014','2015']\n",
    "suma=0\n",
    "for i in range(len(años)):\n",
    "                nombre_csv=años[i]+\".csv\"\n",
    "                tamaño_archivo=pd.read_csv(nombre_csv).shape[0]\n",
    "                print(años[i],\":\",tamaño_archivo)\n",
    "                suma+=tamaño_archivo\n",
    "print(\"Suma total de Registros: \",suma)"
   ]
  },
  {
   "cell_type": "markdown",
   "id": "31123cf6",
   "metadata": {},
   "source": [
    "#### Corroboremos que la suma anterior coincida con el numero de lineas del archivo original"
   ]
  },
  {
   "cell_type": "code",
   "execution_count": 10,
   "id": "47eced78",
   "metadata": {},
   "outputs": [
    {
     "name": "stdout",
     "output_type": "stream",
     "text": [
      "55423856\n"
     ]
    }
   ],
   "source": [
    "numeroLineas = sum(1 for row in (open('train.csv')))\n",
    "print(numeroLineas-1) #Restamos 1 ya que el numero total de registros no toma en cuenta la cabezera"
   ]
  },
  {
   "cell_type": "markdown",
   "id": "f1e14a36",
   "metadata": {},
   "source": [
    "## TRABAJANDO CON DATA AÑO 2009"
   ]
  },
  {
   "cell_type": "markdown",
   "id": "199cff7f",
   "metadata": {},
   "source": [
    "#### Visualizemos por ejemplo el archivo 2009.csv que contiene todos los registros del año 2009"
   ]
  },
  {
   "cell_type": "code",
   "execution_count": 13,
   "id": "2f19261c",
   "metadata": {},
   "outputs": [
    {
     "data": {
      "text/html": [
       "<div>\n",
       "<style scoped>\n",
       "    .dataframe tbody tr th:only-of-type {\n",
       "        vertical-align: middle;\n",
       "    }\n",
       "\n",
       "    .dataframe tbody tr th {\n",
       "        vertical-align: top;\n",
       "    }\n",
       "\n",
       "    .dataframe thead th {\n",
       "        text-align: right;\n",
       "    }\n",
       "</style>\n",
       "<table border=\"1\" class=\"dataframe\">\n",
       "  <thead>\n",
       "    <tr style=\"text-align: right;\">\n",
       "      <th></th>\n",
       "      <th>key</th>\n",
       "      <th>fare_amount</th>\n",
       "      <th>pickup_datetime</th>\n",
       "      <th>pickup_longitude</th>\n",
       "      <th>pickup_latitude</th>\n",
       "      <th>dropoff_longitude</th>\n",
       "      <th>dropoff_latitude</th>\n",
       "      <th>passenger_count</th>\n",
       "    </tr>\n",
       "  </thead>\n",
       "  <tbody>\n",
       "    <tr>\n",
       "      <th>0</th>\n",
       "      <td>2009</td>\n",
       "      <td>4.50</td>\n",
       "      <td>2009-06-15 17:26:21 UTC</td>\n",
       "      <td>-73.844311</td>\n",
       "      <td>40.721319</td>\n",
       "      <td>-73.841610</td>\n",
       "      <td>40.712278</td>\n",
       "      <td>1</td>\n",
       "    </tr>\n",
       "    <tr>\n",
       "      <th>1</th>\n",
       "      <td>2009</td>\n",
       "      <td>8.90</td>\n",
       "      <td>2009-09-02 01:11:00 UTC</td>\n",
       "      <td>-73.980658</td>\n",
       "      <td>40.733873</td>\n",
       "      <td>-73.991540</td>\n",
       "      <td>40.758138</td>\n",
       "      <td>2</td>\n",
       "    </tr>\n",
       "    <tr>\n",
       "      <th>2</th>\n",
       "      <td>2009</td>\n",
       "      <td>4.10</td>\n",
       "      <td>2009-11-06 01:04:03 UTC</td>\n",
       "      <td>-73.991601</td>\n",
       "      <td>40.744712</td>\n",
       "      <td>-73.983081</td>\n",
       "      <td>40.744682</td>\n",
       "      <td>2</td>\n",
       "    </tr>\n",
       "    <tr>\n",
       "      <th>3</th>\n",
       "      <td>2009</td>\n",
       "      <td>5.30</td>\n",
       "      <td>2009-07-22 16:08:00 UTC</td>\n",
       "      <td>-73.981060</td>\n",
       "      <td>40.737690</td>\n",
       "      <td>-73.994177</td>\n",
       "      <td>40.728412</td>\n",
       "      <td>1</td>\n",
       "    </tr>\n",
       "    <tr>\n",
       "      <th>4</th>\n",
       "      <td>2009</td>\n",
       "      <td>4.50</td>\n",
       "      <td>2009-08-06 18:17:23 UTC</td>\n",
       "      <td>-73.991707</td>\n",
       "      <td>40.770505</td>\n",
       "      <td>-73.985459</td>\n",
       "      <td>40.763671</td>\n",
       "      <td>1</td>\n",
       "    </tr>\n",
       "    <tr>\n",
       "      <th>5</th>\n",
       "      <td>2009</td>\n",
       "      <td>6.10</td>\n",
       "      <td>2009-12-10 15:37:00 UTC</td>\n",
       "      <td>-73.969622</td>\n",
       "      <td>40.756973</td>\n",
       "      <td>-73.981152</td>\n",
       "      <td>40.759712</td>\n",
       "      <td>1</td>\n",
       "    </tr>\n",
       "    <tr>\n",
       "      <th>6</th>\n",
       "      <td>2009</td>\n",
       "      <td>31.90</td>\n",
       "      <td>2009-01-09 16:10:00 UTC</td>\n",
       "      <td>-73.873027</td>\n",
       "      <td>40.773883</td>\n",
       "      <td>-73.984545</td>\n",
       "      <td>40.769545</td>\n",
       "      <td>3</td>\n",
       "    </tr>\n",
       "    <tr>\n",
       "      <th>7</th>\n",
       "      <td>2009</td>\n",
       "      <td>9.80</td>\n",
       "      <td>2009-03-02 20:42:49 UTC</td>\n",
       "      <td>-73.972673</td>\n",
       "      <td>40.759186</td>\n",
       "      <td>-73.969897</td>\n",
       "      <td>40.791367</td>\n",
       "      <td>1</td>\n",
       "    </tr>\n",
       "    <tr>\n",
       "      <th>8</th>\n",
       "      <td>2009</td>\n",
       "      <td>12.10</td>\n",
       "      <td>2009-06-10 21:28:00 UTC</td>\n",
       "      <td>-73.988558</td>\n",
       "      <td>40.737200</td>\n",
       "      <td>-73.958688</td>\n",
       "      <td>40.780748</td>\n",
       "      <td>1</td>\n",
       "    </tr>\n",
       "    <tr>\n",
       "      <th>9</th>\n",
       "      <td>2009</td>\n",
       "      <td>6.50</td>\n",
       "      <td>2009-03-23 12:13:29 UTC</td>\n",
       "      <td>-73.985430</td>\n",
       "      <td>40.736011</td>\n",
       "      <td>-73.982501</td>\n",
       "      <td>40.724802</td>\n",
       "      <td>1</td>\n",
       "    </tr>\n",
       "    <tr>\n",
       "      <th>10</th>\n",
       "      <td>2009</td>\n",
       "      <td>6.90</td>\n",
       "      <td>2009-08-02 02:34:11 UTC</td>\n",
       "      <td>-73.995781</td>\n",
       "      <td>40.723411</td>\n",
       "      <td>-74.005004</td>\n",
       "      <td>40.718950</td>\n",
       "      <td>2</td>\n",
       "    </tr>\n",
       "    <tr>\n",
       "      <th>11</th>\n",
       "      <td>2009</td>\n",
       "      <td>5.70</td>\n",
       "      <td>2009-01-09 15:01:20 UTC</td>\n",
       "      <td>-73.992826</td>\n",
       "      <td>40.751271</td>\n",
       "      <td>-73.982786</td>\n",
       "      <td>40.742432</td>\n",
       "      <td>1</td>\n",
       "    </tr>\n",
       "    <tr>\n",
       "      <th>12</th>\n",
       "      <td>2009</td>\n",
       "      <td>52.00</td>\n",
       "      <td>2009-03-25 00:08:52 UTC</td>\n",
       "      <td>-74.035839</td>\n",
       "      <td>40.747320</td>\n",
       "      <td>-74.035839</td>\n",
       "      <td>40.747320</td>\n",
       "      <td>1</td>\n",
       "    </tr>\n",
       "    <tr>\n",
       "      <th>13</th>\n",
       "      <td>2009</td>\n",
       "      <td>6.10</td>\n",
       "      <td>2009-01-25 18:41:00 UTC</td>\n",
       "      <td>-74.000122</td>\n",
       "      <td>40.743080</td>\n",
       "      <td>-74.006150</td>\n",
       "      <td>40.734233</td>\n",
       "      <td>5</td>\n",
       "    </tr>\n",
       "    <tr>\n",
       "      <th>14</th>\n",
       "      <td>2009</td>\n",
       "      <td>49.57</td>\n",
       "      <td>2009-09-22 21:14:00 UTC</td>\n",
       "      <td>-73.977023</td>\n",
       "      <td>40.752600</td>\n",
       "      <td>-73.790310</td>\n",
       "      <td>40.643783</td>\n",
       "      <td>2</td>\n",
       "    </tr>\n",
       "    <tr>\n",
       "      <th>15</th>\n",
       "      <td>2009</td>\n",
       "      <td>8.90</td>\n",
       "      <td>2009-06-25 10:29:00 UTC</td>\n",
       "      <td>-73.957800</td>\n",
       "      <td>40.768003</td>\n",
       "      <td>-73.981712</td>\n",
       "      <td>40.763392</td>\n",
       "      <td>1</td>\n",
       "    </tr>\n",
       "    <tr>\n",
       "      <th>16</th>\n",
       "      <td>2009</td>\n",
       "      <td>10.90</td>\n",
       "      <td>2009-07-23 17:05:10 UTC</td>\n",
       "      <td>-73.983735</td>\n",
       "      <td>40.746697</td>\n",
       "      <td>-73.954411</td>\n",
       "      <td>40.772219</td>\n",
       "      <td>1</td>\n",
       "    </tr>\n",
       "    <tr>\n",
       "      <th>17</th>\n",
       "      <td>2009</td>\n",
       "      <td>16.50</td>\n",
       "      <td>2009-02-27 13:31:21 UTC</td>\n",
       "      <td>-73.974938</td>\n",
       "      <td>40.762091</td>\n",
       "      <td>-74.003309</td>\n",
       "      <td>40.706195</td>\n",
       "      <td>2</td>\n",
       "    </tr>\n",
       "    <tr>\n",
       "      <th>18</th>\n",
       "      <td>2009</td>\n",
       "      <td>12.90</td>\n",
       "      <td>2009-07-16 20:33:00 UTC</td>\n",
       "      <td>-73.980755</td>\n",
       "      <td>40.680558</td>\n",
       "      <td>-73.989110</td>\n",
       "      <td>40.726788</td>\n",
       "      <td>2</td>\n",
       "    </tr>\n",
       "    <tr>\n",
       "      <th>19</th>\n",
       "      <td>2009</td>\n",
       "      <td>4.90</td>\n",
       "      <td>2009-12-27 21:07:39 UTC</td>\n",
       "      <td>-74.003018</td>\n",
       "      <td>40.739780</td>\n",
       "      <td>-73.991533</td>\n",
       "      <td>40.733091</td>\n",
       "      <td>1</td>\n",
       "    </tr>\n",
       "  </tbody>\n",
       "</table>\n",
       "</div>"
      ],
      "text/plain": [
       "     key  fare_amount          pickup_datetime  pickup_longitude  \\\n",
       "0   2009         4.50  2009-06-15 17:26:21 UTC        -73.844311   \n",
       "1   2009         8.90  2009-09-02 01:11:00 UTC        -73.980658   \n",
       "2   2009         4.10  2009-11-06 01:04:03 UTC        -73.991601   \n",
       "3   2009         5.30  2009-07-22 16:08:00 UTC        -73.981060   \n",
       "4   2009         4.50  2009-08-06 18:17:23 UTC        -73.991707   \n",
       "5   2009         6.10  2009-12-10 15:37:00 UTC        -73.969622   \n",
       "6   2009        31.90  2009-01-09 16:10:00 UTC        -73.873027   \n",
       "7   2009         9.80  2009-03-02 20:42:49 UTC        -73.972673   \n",
       "8   2009        12.10  2009-06-10 21:28:00 UTC        -73.988558   \n",
       "9   2009         6.50  2009-03-23 12:13:29 UTC        -73.985430   \n",
       "10  2009         6.90  2009-08-02 02:34:11 UTC        -73.995781   \n",
       "11  2009         5.70  2009-01-09 15:01:20 UTC        -73.992826   \n",
       "12  2009        52.00  2009-03-25 00:08:52 UTC        -74.035839   \n",
       "13  2009         6.10  2009-01-25 18:41:00 UTC        -74.000122   \n",
       "14  2009        49.57  2009-09-22 21:14:00 UTC        -73.977023   \n",
       "15  2009         8.90  2009-06-25 10:29:00 UTC        -73.957800   \n",
       "16  2009        10.90  2009-07-23 17:05:10 UTC        -73.983735   \n",
       "17  2009        16.50  2009-02-27 13:31:21 UTC        -73.974938   \n",
       "18  2009        12.90  2009-07-16 20:33:00 UTC        -73.980755   \n",
       "19  2009         4.90  2009-12-27 21:07:39 UTC        -74.003018   \n",
       "\n",
       "    pickup_latitude  dropoff_longitude  dropoff_latitude  passenger_count  \n",
       "0         40.721319         -73.841610         40.712278                1  \n",
       "1         40.733873         -73.991540         40.758138                2  \n",
       "2         40.744712         -73.983081         40.744682                2  \n",
       "3         40.737690         -73.994177         40.728412                1  \n",
       "4         40.770505         -73.985459         40.763671                1  \n",
       "5         40.756973         -73.981152         40.759712                1  \n",
       "6         40.773883         -73.984545         40.769545                3  \n",
       "7         40.759186         -73.969897         40.791367                1  \n",
       "8         40.737200         -73.958688         40.780748                1  \n",
       "9         40.736011         -73.982501         40.724802                1  \n",
       "10        40.723411         -74.005004         40.718950                2  \n",
       "11        40.751271         -73.982786         40.742432                1  \n",
       "12        40.747320         -74.035839         40.747320                1  \n",
       "13        40.743080         -74.006150         40.734233                5  \n",
       "14        40.752600         -73.790310         40.643783                2  \n",
       "15        40.768003         -73.981712         40.763392                1  \n",
       "16        40.746697         -73.954411         40.772219                1  \n",
       "17        40.762091         -74.003309         40.706195                2  \n",
       "18        40.680558         -73.989110         40.726788                2  \n",
       "19        40.739780         -73.991533         40.733091                1  "
      ]
     },
     "execution_count": 13,
     "metadata": {},
     "output_type": "execute_result"
    }
   ],
   "source": [
    "pd.read_csv('2009.csv').head(20)"
   ]
  },
  {
   "cell_type": "markdown",
   "id": "77b33266",
   "metadata": {},
   "source": [
    "#### Ahora realizaremos una conversion de datos, para que el dataframe que se almacene sea de un tamaño mas pequeño."
   ]
  },
  {
   "cell_type": "code",
   "execution_count": 2,
   "id": "2745e396",
   "metadata": {},
   "outputs": [
    {
     "name": "stdout",
     "output_type": "stream",
     "text": [
      "Chunk dataframe 1 size acumulado: 0.0142 GB\n",
      "Chunk dataframe 2 size acumulado: 0.0283 GB\n",
      "Chunk dataframe 3 size acumulado: 0.0425 GB\n",
      "Chunk dataframe 4 size acumulado: 0.0566 GB\n",
      "Chunk dataframe 5 size acumulado: 0.0708 GB\n",
      "Chunk dataframe 6 size acumulado: 0.0849 GB\n",
      "Chunk dataframe 7 size acumulado: 0.0991 GB\n",
      "Chunk dataframe 8 size acumulado: 0.1132 GB\n",
      "Chunk dataframe 9 size acumulado: 0.1274 GB\n",
      "Chunk dataframe 10 size acumulado: 0.1416 GB\n",
      "Chunk dataframe 11 size acumulado: 0.1557 GB\n",
      "Chunk dataframe 12 size acumulado: 0.1699 GB\n",
      "Chunk dataframe 13 size acumulado: 0.1840 GB\n",
      "Chunk dataframe 14 size acumulado: 0.1982 GB\n",
      "Chunk dataframe 15 size acumulado: 0.2123 GB\n",
      "Chunk dataframe 16 size acumulado: 0.2265 GB\n",
      "Chunk dataframe 17 size acumulado: 0.2407 GB\n",
      "Chunk dataframe 18 size acumulado: 0.2548 GB\n",
      "Chunk dataframe 19 size acumulado: 0.2690 GB\n",
      "Chunk dataframe 20 size acumulado: 0.2831 GB\n",
      "Chunk dataframe 21 size acumulado: 0.2973 GB\n",
      "Chunk dataframe 22 size acumulado: 0.3114 GB\n",
      "Chunk dataframe 23 size acumulado: 0.3256 GB\n",
      "Chunk dataframe 24 size acumulado: 0.3397 GB\n",
      "Chunk dataframe 25 size acumulado: 0.3539 GB\n",
      "Chunk dataframe 26 size acumulado: 0.3681 GB\n",
      "Chunk dataframe 27 size acumulado: 0.3822 GB\n",
      "Chunk dataframe 28 size acumulado: 0.3964 GB\n",
      "Chunk dataframe 29 size acumulado: 0.4105 GB\n",
      "Chunk dataframe 30 size acumulado: 0.4247 GB\n",
      "Chunk dataframe 31 size acumulado: 0.4388 GB\n",
      "Chunk dataframe 32 size acumulado: 0.4530 GB\n",
      "Chunk dataframe 33 size acumulado: 0.4672 GB\n",
      "Chunk dataframe 34 size acumulado: 0.4813 GB\n",
      "Chunk dataframe 35 size acumulado: 0.4955 GB\n",
      "Chunk dataframe 36 size acumulado: 0.5096 GB\n",
      "Chunk dataframe 37 size acumulado: 0.5238 GB\n",
      "Chunk dataframe 38 size acumulado: 0.5379 GB\n",
      "Chunk dataframe 39 size acumulado: 0.5521 GB\n",
      "Chunk dataframe 40 size acumulado: 0.5662 GB\n",
      "Chunk dataframe 41 size acumulado: 0.5804 GB\n",
      "Chunk dataframe 42 size acumulado: 0.5946 GB\n",
      "Chunk dataframe 43 size acumulado: 0.6087 GB\n",
      "Chunk dataframe 44 size acumulado: 0.6229 GB\n",
      "Chunk dataframe 45 size acumulado: 0.6370 GB\n",
      "Chunk dataframe 46 size acumulado: 0.6512 GB\n",
      "Chunk dataframe 47 size acumulado: 0.6653 GB\n",
      "Chunk dataframe 48 size acumulado: 0.6795 GB\n",
      "Chunk dataframe 49 size acumulado: 0.6936 GB\n",
      "Chunk dataframe 50 size acumulado: 0.7078 GB\n",
      "Chunk dataframe 51 size acumulado: 0.7220 GB\n",
      "Chunk dataframe 52 size acumulado: 0.7361 GB\n",
      "Chunk dataframe 53 size acumulado: 0.7503 GB\n",
      "Chunk dataframe 54 size acumulado: 0.7644 GB\n",
      "Chunk dataframe 55 size acumulado: 0.7786 GB\n",
      "Chunk dataframe 56 size acumulado: 0.7927 GB\n",
      "Chunk dataframe 57 size acumulado: 0.8069 GB\n",
      "Chunk dataframe 58 size acumulado: 0.8211 GB\n",
      "Chunk dataframe 59 size acumulado: 0.8352 GB\n",
      "Chunk dataframe 60 size acumulado: 0.8494 GB\n",
      "Chunk dataframe 61 size acumulado: 0.8635 GB\n",
      "Chunk dataframe 62 size acumulado: 0.8777 GB\n",
      "Chunk dataframe 63 size acumulado: 0.8918 GB\n",
      "Chunk dataframe 64 size acumulado: 0.9060 GB\n",
      "Chunk dataframe 65 size acumulado: 0.9201 GB\n",
      "Chunk dataframe 66 size acumulado: 0.9343 GB\n",
      "Chunk dataframe 67 size acumulado: 0.9485 GB\n",
      "Chunk dataframe 68 size acumulado: 0.9626 GB\n",
      "Chunk dataframe 69 size acumulado: 0.9768 GB\n",
      "Chunk dataframe 70 size acumulado: 0.9909 GB\n",
      "Chunk dataframe 71 size acumulado: 1.0051 GB\n",
      "Chunk dataframe 72 size acumulado: 1.0192 GB\n",
      "Chunk dataframe 73 size acumulado: 1.0334 GB\n",
      "Chunk dataframe 74 size acumulado: 1.0476 GB\n",
      "Chunk dataframe 75 size acumulado: 1.0617 GB\n",
      "Chunk dataframe 76 size acumulado: 1.0759 GB\n",
      "Chunk dataframe 77 size acumulado: 1.0900 GB\n",
      "Chunk dataframe 78 size acumulado: 1.1042 GB\n",
      "Chunk dataframe 79 size acumulado: 1.1183 GB\n",
      "Chunk dataframe 80 size acumulado: 1.1325 GB\n",
      "Chunk dataframe 81 size acumulado: 1.1466 GB\n",
      "Chunk dataframe 82 size acumulado: 1.1608 GB\n",
      "Chunk dataframe 83 size acumulado: 1.1750 GB\n",
      "Chunk dataframe 84 size acumulado: 1.1891 GB\n",
      "Chunk dataframe 85 size acumulado: 1.2033 GB\n",
      "Chunk dataframe 86 size acumulado: 1.2094 GB\n"
     ]
    }
   ],
   "source": [
    "\n",
    "import datetime as dt\n",
    "\n",
    "data_reduce_2009=pd.DataFrame({},columns = ['key','fare_amount', 'pickup_datetime', 'pickup_longitude','pickup_latitude','dropoff_longitude','dropoff_latitude','passenger_count'])\n",
    "TamañoChunks = 100000\n",
    "iteracion=0\n",
    "for chunk in pd.read_csv('2009.csv', chunksize=TamañoChunks):\n",
    "        chunk['pickup_datetime']=pd.to_datetime(chunk['pickup_datetime'])\n",
    "        chunk['pickup_datetime']=chunk['pickup_datetime'].map(dt.datetime.toordinal)\n",
    "        data_reduce_2009 = pd.concat([data_reduce_2009,chunk])\n",
    "        iteracion=iteracion+1\n",
    "        print('Chunk dataframe %d '%iteracion +'size acumulado: %2.4f GB'%(getsizeof(data_reduce_2009)/(1024.0**3)))"
   ]
  },
  {
   "cell_type": "markdown",
   "id": "af59c26b",
   "metadata": {},
   "source": [
    "#### Salvaremos esta transformacion en un archivo .csv"
   ]
  },
  {
   "cell_type": "code",
   "execution_count": null,
   "id": "a1f942d3",
   "metadata": {},
   "outputs": [],
   "source": [
    "data_reduce_2009.to_csv('data_reduce_2009.csv',index=False,mode='a')"
   ]
  },
  {
   "cell_type": "markdown",
   "id": "e2a4af5b",
   "metadata": {},
   "source": [
    "#### Cargamos el archivo .csv"
   ]
  },
  {
   "cell_type": "code",
   "execution_count": 3,
   "id": "f8f97367",
   "metadata": {},
   "outputs": [
    {
     "name": "stdout",
     "output_type": "stream",
     "text": [
      "size data_reduce_2009: 0.5092 GB\n"
     ]
    }
   ],
   "source": [
    "data_reduce_2009=pd.read_csv('data_reduce_2009.csv')\n",
    "print('size data_reduce_2009: %2.4f GB'%(getsizeof(data_reduce_2009)/(1024.0**3)))"
   ]
  },
  {
   "cell_type": "markdown",
   "id": "dbd1a51f",
   "metadata": {},
   "source": [
    "#### Verificamos que ningun dato se haya perdido"
   ]
  },
  {
   "cell_type": "code",
   "execution_count": 5,
   "id": "8d46caa8",
   "metadata": {},
   "outputs": [
    {
     "data": {
      "text/plain": [
       "8543166"
      ]
     },
     "execution_count": 5,
     "metadata": {},
     "output_type": "execute_result"
    }
   ],
   "source": [
    "data_reduce_2009.shape[0]"
   ]
  },
  {
   "cell_type": "code",
   "execution_count": null,
   "id": "27dd125a",
   "metadata": {},
   "outputs": [],
   "source": []
  },
  {
   "cell_type": "markdown",
   "id": "22c42c6f",
   "metadata": {},
   "source": [
    "#### Realizamos una pequeña transformacion a los datos para hacer mas ligero el dataframe"
   ]
  },
  {
   "cell_type": "code",
   "execution_count": 4,
   "id": "62c5c40e",
   "metadata": {},
   "outputs": [],
   "source": [
    "data_reduce_2009['pickup_datetime']=data_reduce_2009['pickup_datetime'].astype('uint32')      \n",
    "data_reduce_2009['fare_amount']=data_reduce_2009['fare_amount'].astype('float32')\n",
    "data_reduce_2009['passenger_count']=data_reduce_2009['passenger_count'].astype('uint8')"
   ]
  },
  {
   "cell_type": "code",
   "execution_count": 5,
   "id": "415c40d0",
   "metadata": {},
   "outputs": [
    {
     "name": "stdout",
     "output_type": "stream",
     "text": [
      "size data_reduce_2009: 0.3899 GB\n"
     ]
    }
   ],
   "source": [
    "print('size data_reduce_2009: %2.4f GB'%(getsizeof(data_reduce_2009)/(1024.0**3)))"
   ]
  },
  {
   "cell_type": "markdown",
   "id": "901d629e",
   "metadata": {},
   "source": [
    "#### Mostramos los 20 primeros registros de la data reducida del 2009, este dataframe ya es de 1.2 GB controlable para nuestro entorno."
   ]
  },
  {
   "cell_type": "code",
   "execution_count": 8,
   "id": "bb0036ec",
   "metadata": {},
   "outputs": [
    {
     "data": {
      "text/html": [
       "<div>\n",
       "<style scoped>\n",
       "    .dataframe tbody tr th:only-of-type {\n",
       "        vertical-align: middle;\n",
       "    }\n",
       "\n",
       "    .dataframe tbody tr th {\n",
       "        vertical-align: top;\n",
       "    }\n",
       "\n",
       "    .dataframe thead th {\n",
       "        text-align: right;\n",
       "    }\n",
       "</style>\n",
       "<table border=\"1\" class=\"dataframe\">\n",
       "  <thead>\n",
       "    <tr style=\"text-align: right;\">\n",
       "      <th></th>\n",
       "      <th>key</th>\n",
       "      <th>fare_amount</th>\n",
       "      <th>pickup_datetime</th>\n",
       "      <th>pickup_longitude</th>\n",
       "      <th>pickup_latitude</th>\n",
       "      <th>dropoff_longitude</th>\n",
       "      <th>dropoff_latitude</th>\n",
       "      <th>passenger_count</th>\n",
       "    </tr>\n",
       "  </thead>\n",
       "  <tbody>\n",
       "    <tr>\n",
       "      <th>0</th>\n",
       "      <td>2009</td>\n",
       "      <td>4.50</td>\n",
       "      <td>733573</td>\n",
       "      <td>-73.844311</td>\n",
       "      <td>40.721319</td>\n",
       "      <td>-73.841610</td>\n",
       "      <td>40.712278</td>\n",
       "      <td>1</td>\n",
       "    </tr>\n",
       "    <tr>\n",
       "      <th>1</th>\n",
       "      <td>2009</td>\n",
       "      <td>8.90</td>\n",
       "      <td>733652</td>\n",
       "      <td>-73.980658</td>\n",
       "      <td>40.733873</td>\n",
       "      <td>-73.991540</td>\n",
       "      <td>40.758138</td>\n",
       "      <td>2</td>\n",
       "    </tr>\n",
       "    <tr>\n",
       "      <th>2</th>\n",
       "      <td>2009</td>\n",
       "      <td>4.10</td>\n",
       "      <td>733717</td>\n",
       "      <td>-73.991601</td>\n",
       "      <td>40.744712</td>\n",
       "      <td>-73.983081</td>\n",
       "      <td>40.744682</td>\n",
       "      <td>2</td>\n",
       "    </tr>\n",
       "    <tr>\n",
       "      <th>3</th>\n",
       "      <td>2009</td>\n",
       "      <td>5.30</td>\n",
       "      <td>733610</td>\n",
       "      <td>-73.981060</td>\n",
       "      <td>40.737690</td>\n",
       "      <td>-73.994177</td>\n",
       "      <td>40.728412</td>\n",
       "      <td>1</td>\n",
       "    </tr>\n",
       "    <tr>\n",
       "      <th>4</th>\n",
       "      <td>2009</td>\n",
       "      <td>4.50</td>\n",
       "      <td>733625</td>\n",
       "      <td>-73.991707</td>\n",
       "      <td>40.770505</td>\n",
       "      <td>-73.985459</td>\n",
       "      <td>40.763671</td>\n",
       "      <td>1</td>\n",
       "    </tr>\n",
       "    <tr>\n",
       "      <th>5</th>\n",
       "      <td>2009</td>\n",
       "      <td>6.10</td>\n",
       "      <td>733751</td>\n",
       "      <td>-73.969622</td>\n",
       "      <td>40.756973</td>\n",
       "      <td>-73.981152</td>\n",
       "      <td>40.759712</td>\n",
       "      <td>1</td>\n",
       "    </tr>\n",
       "    <tr>\n",
       "      <th>6</th>\n",
       "      <td>2009</td>\n",
       "      <td>31.90</td>\n",
       "      <td>733416</td>\n",
       "      <td>-73.873027</td>\n",
       "      <td>40.773883</td>\n",
       "      <td>-73.984545</td>\n",
       "      <td>40.769545</td>\n",
       "      <td>3</td>\n",
       "    </tr>\n",
       "    <tr>\n",
       "      <th>7</th>\n",
       "      <td>2009</td>\n",
       "      <td>9.80</td>\n",
       "      <td>733468</td>\n",
       "      <td>-73.972673</td>\n",
       "      <td>40.759186</td>\n",
       "      <td>-73.969897</td>\n",
       "      <td>40.791367</td>\n",
       "      <td>1</td>\n",
       "    </tr>\n",
       "    <tr>\n",
       "      <th>8</th>\n",
       "      <td>2009</td>\n",
       "      <td>12.10</td>\n",
       "      <td>733568</td>\n",
       "      <td>-73.988558</td>\n",
       "      <td>40.737200</td>\n",
       "      <td>-73.958688</td>\n",
       "      <td>40.780748</td>\n",
       "      <td>1</td>\n",
       "    </tr>\n",
       "    <tr>\n",
       "      <th>9</th>\n",
       "      <td>2009</td>\n",
       "      <td>6.50</td>\n",
       "      <td>733489</td>\n",
       "      <td>-73.985430</td>\n",
       "      <td>40.736011</td>\n",
       "      <td>-73.982501</td>\n",
       "      <td>40.724802</td>\n",
       "      <td>1</td>\n",
       "    </tr>\n",
       "    <tr>\n",
       "      <th>10</th>\n",
       "      <td>2009</td>\n",
       "      <td>6.90</td>\n",
       "      <td>733621</td>\n",
       "      <td>-73.995781</td>\n",
       "      <td>40.723411</td>\n",
       "      <td>-74.005004</td>\n",
       "      <td>40.718950</td>\n",
       "      <td>2</td>\n",
       "    </tr>\n",
       "    <tr>\n",
       "      <th>11</th>\n",
       "      <td>2009</td>\n",
       "      <td>5.70</td>\n",
       "      <td>733416</td>\n",
       "      <td>-73.992826</td>\n",
       "      <td>40.751271</td>\n",
       "      <td>-73.982786</td>\n",
       "      <td>40.742432</td>\n",
       "      <td>1</td>\n",
       "    </tr>\n",
       "    <tr>\n",
       "      <th>12</th>\n",
       "      <td>2009</td>\n",
       "      <td>52.00</td>\n",
       "      <td>733491</td>\n",
       "      <td>-74.035839</td>\n",
       "      <td>40.747320</td>\n",
       "      <td>-74.035839</td>\n",
       "      <td>40.747320</td>\n",
       "      <td>1</td>\n",
       "    </tr>\n",
       "    <tr>\n",
       "      <th>13</th>\n",
       "      <td>2009</td>\n",
       "      <td>6.10</td>\n",
       "      <td>733432</td>\n",
       "      <td>-74.000122</td>\n",
       "      <td>40.743080</td>\n",
       "      <td>-74.006150</td>\n",
       "      <td>40.734233</td>\n",
       "      <td>5</td>\n",
       "    </tr>\n",
       "    <tr>\n",
       "      <th>14</th>\n",
       "      <td>2009</td>\n",
       "      <td>49.57</td>\n",
       "      <td>733672</td>\n",
       "      <td>-73.977023</td>\n",
       "      <td>40.752600</td>\n",
       "      <td>-73.790310</td>\n",
       "      <td>40.643783</td>\n",
       "      <td>2</td>\n",
       "    </tr>\n",
       "    <tr>\n",
       "      <th>15</th>\n",
       "      <td>2009</td>\n",
       "      <td>8.90</td>\n",
       "      <td>733583</td>\n",
       "      <td>-73.957800</td>\n",
       "      <td>40.768003</td>\n",
       "      <td>-73.981712</td>\n",
       "      <td>40.763392</td>\n",
       "      <td>1</td>\n",
       "    </tr>\n",
       "    <tr>\n",
       "      <th>16</th>\n",
       "      <td>2009</td>\n",
       "      <td>10.90</td>\n",
       "      <td>733611</td>\n",
       "      <td>-73.983735</td>\n",
       "      <td>40.746697</td>\n",
       "      <td>-73.954411</td>\n",
       "      <td>40.772219</td>\n",
       "      <td>1</td>\n",
       "    </tr>\n",
       "    <tr>\n",
       "      <th>17</th>\n",
       "      <td>2009</td>\n",
       "      <td>16.50</td>\n",
       "      <td>733465</td>\n",
       "      <td>-73.974938</td>\n",
       "      <td>40.762091</td>\n",
       "      <td>-74.003309</td>\n",
       "      <td>40.706195</td>\n",
       "      <td>2</td>\n",
       "    </tr>\n",
       "    <tr>\n",
       "      <th>18</th>\n",
       "      <td>2009</td>\n",
       "      <td>12.90</td>\n",
       "      <td>733604</td>\n",
       "      <td>-73.980755</td>\n",
       "      <td>40.680558</td>\n",
       "      <td>-73.989110</td>\n",
       "      <td>40.726788</td>\n",
       "      <td>2</td>\n",
       "    </tr>\n",
       "    <tr>\n",
       "      <th>19</th>\n",
       "      <td>2009</td>\n",
       "      <td>4.90</td>\n",
       "      <td>733768</td>\n",
       "      <td>-74.003018</td>\n",
       "      <td>40.739780</td>\n",
       "      <td>-73.991533</td>\n",
       "      <td>40.733091</td>\n",
       "      <td>1</td>\n",
       "    </tr>\n",
       "  </tbody>\n",
       "</table>\n",
       "</div>"
      ],
      "text/plain": [
       "     key  fare_amount  pickup_datetime  pickup_longitude  pickup_latitude  \\\n",
       "0   2009         4.50           733573        -73.844311        40.721319   \n",
       "1   2009         8.90           733652        -73.980658        40.733873   \n",
       "2   2009         4.10           733717        -73.991601        40.744712   \n",
       "3   2009         5.30           733610        -73.981060        40.737690   \n",
       "4   2009         4.50           733625        -73.991707        40.770505   \n",
       "5   2009         6.10           733751        -73.969622        40.756973   \n",
       "6   2009        31.90           733416        -73.873027        40.773883   \n",
       "7   2009         9.80           733468        -73.972673        40.759186   \n",
       "8   2009        12.10           733568        -73.988558        40.737200   \n",
       "9   2009         6.50           733489        -73.985430        40.736011   \n",
       "10  2009         6.90           733621        -73.995781        40.723411   \n",
       "11  2009         5.70           733416        -73.992826        40.751271   \n",
       "12  2009        52.00           733491        -74.035839        40.747320   \n",
       "13  2009         6.10           733432        -74.000122        40.743080   \n",
       "14  2009        49.57           733672        -73.977023        40.752600   \n",
       "15  2009         8.90           733583        -73.957800        40.768003   \n",
       "16  2009        10.90           733611        -73.983735        40.746697   \n",
       "17  2009        16.50           733465        -73.974938        40.762091   \n",
       "18  2009        12.90           733604        -73.980755        40.680558   \n",
       "19  2009         4.90           733768        -74.003018        40.739780   \n",
       "\n",
       "    dropoff_longitude  dropoff_latitude  passenger_count  \n",
       "0          -73.841610         40.712278                1  \n",
       "1          -73.991540         40.758138                2  \n",
       "2          -73.983081         40.744682                2  \n",
       "3          -73.994177         40.728412                1  \n",
       "4          -73.985459         40.763671                1  \n",
       "5          -73.981152         40.759712                1  \n",
       "6          -73.984545         40.769545                3  \n",
       "7          -73.969897         40.791367                1  \n",
       "8          -73.958688         40.780748                1  \n",
       "9          -73.982501         40.724802                1  \n",
       "10         -74.005004         40.718950                2  \n",
       "11         -73.982786         40.742432                1  \n",
       "12         -74.035839         40.747320                1  \n",
       "13         -74.006150         40.734233                5  \n",
       "14         -73.790310         40.643783                2  \n",
       "15         -73.981712         40.763392                1  \n",
       "16         -73.954411         40.772219                1  \n",
       "17         -74.003309         40.706195                2  \n",
       "18         -73.989110         40.726788                2  \n",
       "19         -73.991533         40.733091                1  "
      ]
     },
     "execution_count": 8,
     "metadata": {},
     "output_type": "execute_result"
    }
   ],
   "source": [
    "data_reduce_2009.head(20)"
   ]
  },
  {
   "cell_type": "markdown",
   "id": "dceabd35",
   "metadata": {},
   "source": [
    "#### Haremos finalmente unos ultimos filtros, verifiquemos si existen datos con Nan"
   ]
  },
  {
   "cell_type": "code",
   "execution_count": 9,
   "id": "1b9802f8",
   "metadata": {},
   "outputs": [
    {
     "data": {
      "text/plain": [
       "key                  0\n",
       "fare_amount          0\n",
       "pickup_datetime      0\n",
       "pickup_longitude     0\n",
       "pickup_latitude      0\n",
       "dropoff_longitude    0\n",
       "dropoff_latitude     0\n",
       "passenger_count      0\n",
       "dtype: int64"
      ]
     },
     "execution_count": 9,
     "metadata": {},
     "output_type": "execute_result"
    }
   ],
   "source": [
    "data_reduce_2009.isnull().sum()"
   ]
  },
  {
   "cell_type": "markdown",
   "id": "414da861",
   "metadata": {},
   "source": [
    "#### Nos quedamos solo co aquellos registros con longitud y latitud diferentes a 0."
   ]
  },
  {
   "cell_type": "code",
   "execution_count": 6,
   "id": "ee8bf4dc",
   "metadata": {},
   "outputs": [],
   "source": [
    "data_reduce_2009=data_reduce_2009[data_reduce_2009.pickup_longitude !=0]\n",
    "data_reduce_2009=data_reduce_2009[data_reduce_2009.pickup_latitude !=0]\n",
    "data_reduce_2009=data_reduce_2009[data_reduce_2009.dropoff_longitude !=0]\n",
    "data_reduce_2009=data_reduce_2009[data_reduce_2009.dropoff_latitude !=0]"
   ]
  },
  {
   "cell_type": "markdown",
   "id": "37eb1c1c",
   "metadata": {},
   "source": [
    "#### Finalmente nos quedamos con una data habil de:"
   ]
  },
  {
   "cell_type": "code",
   "execution_count": 14,
   "id": "b0315b65",
   "metadata": {},
   "outputs": [
    {
     "name": "stdout",
     "output_type": "stream",
     "text": [
      "8435960  registros de 8543166\n"
     ]
    }
   ],
   "source": [
    "print(data_reduce_2009.shape[0],\" registros de 8543166\")"
   ]
  },
  {
   "cell_type": "markdown",
   "id": "1f73b4a0",
   "metadata": {},
   "source": [
    "#### Procedemos a separar la data de entrenamiento y test"
   ]
  },
  {
   "cell_type": "markdown",
   "id": "23c227e4",
   "metadata": {},
   "source": [
    "Notar que esta partición la exportaremos en archivos .csv para poder usarlos luego."
   ]
  },
  {
   "cell_type": "code",
   "execution_count": 18,
   "id": "25cc913b",
   "metadata": {},
   "outputs": [],
   "source": [
    "from sklearn.preprocessing import StandardScaler\n",
    "from sklearn.model_selection import train_test_split\n",
    "train, test = train_test_split(data_reduce_2009, test_size = 0.30, random_state = 1000)\n",
    "train.to_csv('data_reduce_2009_train.csv',index=False,mode='a')\n",
    "test.to_csv('data_reduce_2009_test.csv',index=False,mode='a')"
   ]
  },
  {
   "cell_type": "code",
   "execution_count": 1,
   "id": "6477c97e",
   "metadata": {},
   "outputs": [],
   "source": [
    "import pandas as pd\n",
    "predictores = ['pickup_datetime','pickup_longitude','pickup_latitude','dropoff_longitude','dropoff_latitude','passenger_count']\n",
    "salida = 'fare_amount'\n",
    "X_train=pd.read_csv('data_reduce_2009_train.csv')[predictores]\n",
    "y_train=pd.read_csv('data_reduce_2009_train.csv')[salida]\n",
    "X_test=pd.read_csv('data_reduce_2009_test.csv')[predictores]\n",
    "y_test=pd.read_csv('data_reduce_2009_test.csv')[salida]\n",
    "\n",
    "assert X_train.shape[0]==y_train.shape[0], 'Train No tiene el mismo numero de registros'\n",
    "assert X_test.shape[0]==y_test.shape[0], 'Test No tiene el mismo numero de registros'\n",
    "assert X_train.shape[0]+X_test.shape[0]==8435960, 'Existen registros faltantes'\n",
    "assert y_train.shape[0]+y_test.shape[0]==8435960, 'Existen registros faltantes'\n",
    "\n"
   ]
  },
  {
   "cell_type": "markdown",
   "id": "ed5f5001",
   "metadata": {},
   "source": [
    "#### Procederemos a hacer el escalamiento con standard scaler"
   ]
  },
  {
   "cell_type": "code",
   "execution_count": 2,
   "id": "9b51e2ed",
   "metadata": {},
   "outputs": [],
   "source": [
    "from sklearn.preprocessing import StandardScaler\n",
    "scaler = StandardScaler()\n",
    "scaler.fit(X_train)\n",
    "X_train_s=scaler.transform(X_train)\n",
    "X_test_s=scaler.transform(X_test)"
   ]
  },
  {
   "cell_type": "markdown",
   "id": "208fe50d",
   "metadata": {},
   "source": [
    "#### Entrenamiento con Modelo DecisionTreeRegressor"
   ]
  },
  {
   "cell_type": "code",
   "execution_count": 3,
   "id": "a9daae21",
   "metadata": {},
   "outputs": [],
   "source": [
    "import joblib\n",
    "from sklearn.ensemble import RandomForestRegressor\n",
    "from sklearn.tree import DecisionTreeRegressor\n",
    "from sklearn.metrics import recall_score\n",
    "from sklearn.metrics import precision_score\n",
    "regresor = DecisionTreeRegressor(random_state=0)\n",
    "regresor.fit(X_train_s, y_train)\n",
    "y_pred=regresor.predict(X_test_s)"
   ]
  },
  {
   "cell_type": "markdown",
   "id": "afbd0553",
   "metadata": {},
   "source": [
    "#### Calcularemos Puntuaciones para la predicción que obtuvo el modelo"
   ]
  },
  {
   "cell_type": "markdown",
   "id": "facb8347",
   "metadata": {},
   "source": [
    "Puntuación de r2_score"
   ]
  },
  {
   "cell_type": "code",
   "execution_count": 4,
   "id": "48a186c7",
   "metadata": {},
   "outputs": [
    {
     "data": {
      "text/plain": [
       "0.6640539558970946"
      ]
     },
     "execution_count": 4,
     "metadata": {},
     "output_type": "execute_result"
    }
   ],
   "source": [
    "from sklearn.metrics import r2_score\n",
    "from sklearn.metrics import explained_variance_score\n",
    "from sklearn.metrics import mean_squared_error\n",
    "r2_score(y_test, y_pred)"
   ]
  },
  {
   "cell_type": "markdown",
   "id": "1619c021",
   "metadata": {},
   "source": [
    "Puntuación de explained_variance_score"
   ]
  },
  {
   "cell_type": "code",
   "execution_count": 5,
   "id": "e052a459",
   "metadata": {},
   "outputs": [
    {
     "data": {
      "text/plain": [
       "0.6641133991869008"
      ]
     },
     "execution_count": 5,
     "metadata": {},
     "output_type": "execute_result"
    }
   ],
   "source": [
    "explained_variance_score(y_test, y_pred)"
   ]
  },
  {
   "cell_type": "markdown",
   "id": "a13807ee",
   "metadata": {},
   "source": [
    "Puntuación de mean_squared_error"
   ]
  },
  {
   "cell_type": "code",
   "execution_count": 6,
   "id": "b1bb2f25",
   "metadata": {},
   "outputs": [
    {
     "data": {
      "text/plain": [
       "22.46584517456517"
      ]
     },
     "execution_count": 6,
     "metadata": {},
     "output_type": "execute_result"
    }
   ],
   "source": [
    "mean_squared_error(y_test, y_pred)"
   ]
  },
  {
   "cell_type": "markdown",
   "id": "a8d991d3",
   "metadata": {},
   "source": [
    "#### Entrenamiento con Modelo RandomForestRegressor con 5 estimadores"
   ]
  },
  {
   "cell_type": "code",
   "execution_count": 7,
   "id": "a65c8c8d",
   "metadata": {},
   "outputs": [],
   "source": [
    "from sklearn.ensemble import RandomForestRegressor\n",
    "regresor = RandomForestRegressor(n_estimators=5,random_state=0)\n",
    "regresor.fit(X_train_s, y_train)\n",
    "y_pred=regresor.predict(X_test_s)"
   ]
  },
  {
   "cell_type": "code",
   "execution_count": 8,
   "id": "f34248de",
   "metadata": {},
   "outputs": [
    {
     "data": {
      "text/plain": [
       "0.7942464973034349"
      ]
     },
     "execution_count": 8,
     "metadata": {},
     "output_type": "execute_result"
    }
   ],
   "source": [
    "r2_score(y_test, y_pred)"
   ]
  },
  {
   "cell_type": "code",
   "execution_count": 9,
   "id": "9386f39a",
   "metadata": {},
   "outputs": [
    {
     "data": {
      "text/plain": [
       "0.7943005040348528"
      ]
     },
     "execution_count": 9,
     "metadata": {},
     "output_type": "execute_result"
    }
   ],
   "source": [
    "explained_variance_score(y_test, y_pred)"
   ]
  },
  {
   "cell_type": "code",
   "execution_count": 10,
   "id": "efcc063a",
   "metadata": {},
   "outputs": [
    {
     "data": {
      "text/plain": [
       "13.759430768262265"
      ]
     },
     "execution_count": 10,
     "metadata": {},
     "output_type": "execute_result"
    }
   ],
   "source": [
    "mean_squared_error(y_test, y_pred)"
   ]
  },
  {
   "cell_type": "markdown",
   "id": "31f27ca3",
   "metadata": {},
   "source": [
    "#### Entrenamiento con Modelo RandomForestRegressor con 10 estimadores"
   ]
  },
  {
   "cell_type": "code",
   "execution_count": 11,
   "id": "d1ab291a",
   "metadata": {},
   "outputs": [],
   "source": [
    "from sklearn.ensemble import RandomForestRegressor\n",
    "regresor = RandomForestRegressor(n_estimators=10,random_state=0)\n",
    "regresor.fit(X_train_s, y_train)\n",
    "y_pred=regresor.predict(X_test_s)"
   ]
  },
  {
   "cell_type": "code",
   "execution_count": 12,
   "id": "0ad8c857",
   "metadata": {},
   "outputs": [
    {
     "data": {
      "text/plain": [
       "0.8114548273699972"
      ]
     },
     "execution_count": 12,
     "metadata": {},
     "output_type": "execute_result"
    }
   ],
   "source": [
    "r2_score(y_test, y_pred)"
   ]
  },
  {
   "cell_type": "code",
   "execution_count": 13,
   "id": "ee411d08",
   "metadata": {},
   "outputs": [
    {
     "data": {
      "text/plain": [
       "0.811507887031693"
      ]
     },
     "execution_count": 13,
     "metadata": {},
     "output_type": "execute_result"
    }
   ],
   "source": [
    "explained_variance_score(y_test, y_pred)"
   ]
  },
  {
   "cell_type": "code",
   "execution_count": 14,
   "id": "0fa1a32d",
   "metadata": {},
   "outputs": [
    {
     "data": {
      "text/plain": [
       "12.608651689971406"
      ]
     },
     "execution_count": 14,
     "metadata": {},
     "output_type": "execute_result"
    }
   ],
   "source": [
    "mean_squared_error(y_test, y_pred)"
   ]
  },
  {
   "cell_type": "markdown",
   "id": "efa61759",
   "metadata": {},
   "source": [
    "#### Importancia de Características"
   ]
  },
  {
   "cell_type": "markdown",
   "id": "cdda42c3",
   "metadata": {},
   "source": [
    "Vemos que la caracteristica menos importante para el modelo es la cantidad de pasajeros y las mas alta el dropoff_longitude"
   ]
  },
  {
   "cell_type": "code",
   "execution_count": 16,
   "id": "bcb4e24e",
   "metadata": {},
   "outputs": [
    {
     "data": {
      "image/png": "[encoded data removed]",
      "text/plain": [
       "<Figure size 1584x720 with 1 Axes>"
      ]
     },
     "metadata": {
      "needs_background": "light"
     },
     "output_type": "display_data"
    }
   ],
   "source": [
    "import numpy as np\n",
    "plt=__import__(\"matplotlib.pyplot\")\n",
    "features = [predictores[x] for x in np.argsort(regresor.feature_importances_)][::-1]\n",
    "fig, ax = plt.pyplot.subplots(figsize=(22, 10))\n",
    "ax.bar([i for i in range(6)], np.sort(regresor.feature_importances_)[::-1], align='center')\n",
    "ax.set_ylabel('Importancia de caracteristicas', fontsize=22)\n",
    "plt.pyplot.xticks([i for i in range(len(features))], features, rotation=60, fontsize=22)\n",
    "plt.pyplot.show()"
   ]
  },
  {
   "cell_type": "markdown",
   "id": "95f313c8",
   "metadata": {},
   "source": [
    "#### Entrenamiento con Modelo RandomForestRegressor con 15 estimadores"
   ]
  },
  {
   "cell_type": "markdown",
   "id": "232b8ea8",
   "metadata": {},
   "source": [
    "El puntaje de este modelo es el mejor hasta ahora, por lo que nos quedaremos con este modelo."
   ]
  },
  {
   "cell_type": "code",
   "execution_count": 17,
   "id": "858ffb42",
   "metadata": {},
   "outputs": [],
   "source": [
    "from sklearn.ensemble import RandomForestRegressor\n",
    "regresor = RandomForestRegressor(n_estimators=15,random_state=0)\n",
    "regresor.fit(X_train, y_train)\n",
    "y_pred=regresor.predict(X_test)"
   ]
  },
  {
   "cell_type": "code",
   "execution_count": 18,
   "id": "6190fb00",
   "metadata": {},
   "outputs": [
    {
     "data": {
      "text/plain": [
       "0.8170844265321263"
      ]
     },
     "execution_count": 18,
     "metadata": {},
     "output_type": "execute_result"
    }
   ],
   "source": [
    "r2_score(y_test, y_pred)"
   ]
  },
  {
   "cell_type": "code",
   "execution_count": 19,
   "id": "2324dfeb",
   "metadata": {},
   "outputs": [
    {
     "data": {
      "text/plain": [
       "0.8171440860984241"
      ]
     },
     "execution_count": 19,
     "metadata": {},
     "output_type": "execute_result"
    }
   ],
   "source": [
    "explained_variance_score(y_test, y_pred)"
   ]
  },
  {
   "cell_type": "code",
   "execution_count": 20,
   "id": "dc9aefaf",
   "metadata": {},
   "outputs": [
    {
     "data": {
      "text/plain": [
       "12.232181404366509"
      ]
     },
     "execution_count": 20,
     "metadata": {},
     "output_type": "execute_result"
    }
   ],
   "source": [
    "mean_squared_error(y_test, y_pred)"
   ]
  },
  {
   "cell_type": "markdown",
   "id": "8f208bf0",
   "metadata": {},
   "source": [
    "#### Guardaremos el modelo con mejor puntaje"
   ]
  },
  {
   "cell_type": "code",
   "execution_count": 21,
   "id": "604e03e0",
   "metadata": {},
   "outputs": [
    {
     "data": {
      "text/plain": [
       "['RF_15_2009.pkl']"
      ]
     },
     "execution_count": 21,
     "metadata": {},
     "output_type": "execute_result"
    }
   ],
   "source": [
    "joblib.dump(regresor,'RF_15_2009.pkl')"
   ]
  },
  {
   "cell_type": "code",
   "execution_count": null,
   "id": "bb6250d7",
   "metadata": {},
   "outputs": [],
   "source": [
    "regresor=joblib.load('RF_15_2009.pkl')"
   ]
  },
  {
   "cell_type": "markdown",
   "id": "3d243ed1",
   "metadata": {},
   "source": [
    "## TRABAJANDO CON DATA AÑO 2010"
   ]
  },
  {
   "cell_type": "markdown",
   "id": "f40a7e70",
   "metadata": {},
   "source": [
    "Procederemos de la misma manera con este año en especifico, por lo que se dejara de comentar los pasos."
   ]
  },
  {
   "cell_type": "code",
   "execution_count": 3,
   "id": "99f9b84e",
   "metadata": {},
   "outputs": [
    {
     "name": "stdout",
     "output_type": "stream",
     "text": [
      "Chunk dataframe 5 size acumulado: 0.0726 GB\n",
      "Chunk dataframe 10 size acumulado: 0.1453 GB\n",
      "Chunk dataframe 15 size acumulado: 0.2179 GB\n",
      "Chunk dataframe 20 size acumulado: 0.2906 GB\n",
      "Chunk dataframe 25 size acumulado: 0.3632 GB\n",
      "Chunk dataframe 30 size acumulado: 0.4359 GB\n",
      "Chunk dataframe 35 size acumulado: 0.5085 GB\n",
      "Chunk dataframe 40 size acumulado: 0.5811 GB\n",
      "Chunk dataframe 45 size acumulado: 0.6538 GB\n",
      "Chunk dataframe 50 size acumulado: 0.7264 GB\n",
      "Chunk dataframe 55 size acumulado: 0.7991 GB\n",
      "Chunk dataframe 60 size acumulado: 0.8717 GB\n",
      "Chunk dataframe 65 size acumulado: 0.9444 GB\n",
      "Chunk dataframe 70 size acumulado: 1.0170 GB\n",
      "Chunk dataframe 75 size acumulado: 1.0896 GB\n",
      "Chunk dataframe 80 size acumulado: 1.1623 GB\n"
     ]
    }
   ],
   "source": [
    "import datetime as dt\n",
    "import pandas as pd\n",
    "from sys import getsizeof\n",
    "data_reduce_2010=pd.DataFrame({},columns = ['key','fare_amount', 'pickup_datetime', 'pickup_longitude','pickup_latitude','dropoff_longitude','dropoff_latitude','passenger_count'])\n",
    "TamañoChunks = 100000\n",
    "iteracion=0\n",
    "for chunk in pd.read_csv('2010.csv', chunksize=TamañoChunks):\n",
    "        chunk['pickup_datetime']=pd.to_datetime(chunk['pickup_datetime'])\n",
    "        chunk['pickup_datetime']=chunk['pickup_datetime'].map(dt.datetime.toordinal)\n",
    "        data_reduce_2010 = pd.concat([data_reduce_2010,chunk])\n",
    "        iteracion=iteracion+1\n",
    "        if iteracion%5==0:\n",
    "            print('Chunk dataframe %d '%iteracion +'size acumulado: %2.4f GB'%(getsizeof(data_reduce_2010)/(1024.0**3)))"
   ]
  },
  {
   "cell_type": "code",
   "execution_count": 4,
   "id": "641a41ed",
   "metadata": {},
   "outputs": [
    {
     "data": {
      "text/plain": [
       "8354997"
      ]
     },
     "execution_count": 4,
     "metadata": {},
     "output_type": "execute_result"
    }
   ],
   "source": [
    "data_reduce_2010.shape[0]"
   ]
  },
  {
   "cell_type": "code",
   "execution_count": 5,
   "id": "f5ea02f6",
   "metadata": {},
   "outputs": [],
   "source": [
    "data_reduce_2010.to_csv('data_reduce_2010.csv',index=False,mode='a')"
   ]
  },
  {
   "cell_type": "code",
   "execution_count": 6,
   "id": "2519313e",
   "metadata": {},
   "outputs": [],
   "source": [
    "data_reduce_2010=pd.read_csv('data_reduce_2010.csv')"
   ]
  },
  {
   "cell_type": "code",
   "execution_count": 7,
   "id": "47151abd",
   "metadata": {},
   "outputs": [
    {
     "data": {
      "text/html": [
       "<div>\n",
       "<style scoped>\n",
       "    .dataframe tbody tr th:only-of-type {\n",
       "        vertical-align: middle;\n",
       "    }\n",
       "\n",
       "    .dataframe tbody tr th {\n",
       "        vertical-align: top;\n",
       "    }\n",
       "\n",
       "    .dataframe thead th {\n",
       "        text-align: right;\n",
       "    }\n",
       "</style>\n",
       "<table border=\"1\" class=\"dataframe\">\n",
       "  <thead>\n",
       "    <tr style=\"text-align: right;\">\n",
       "      <th></th>\n",
       "      <th>key</th>\n",
       "      <th>fare_amount</th>\n",
       "      <th>pickup_datetime</th>\n",
       "      <th>pickup_longitude</th>\n",
       "      <th>pickup_latitude</th>\n",
       "      <th>dropoff_longitude</th>\n",
       "      <th>dropoff_latitude</th>\n",
       "      <th>passenger_count</th>\n",
       "    </tr>\n",
       "  </thead>\n",
       "  <tbody>\n",
       "    <tr>\n",
       "      <th>0</th>\n",
       "      <td>2010</td>\n",
       "      <td>16.90</td>\n",
       "      <td>733777</td>\n",
       "      <td>-74.016048</td>\n",
       "      <td>40.711303</td>\n",
       "      <td>-73.979268</td>\n",
       "      <td>40.782004</td>\n",
       "      <td>1</td>\n",
       "    </tr>\n",
       "    <tr>\n",
       "      <th>1</th>\n",
       "      <td>2010</td>\n",
       "      <td>5.30</td>\n",
       "      <td>733840</td>\n",
       "      <td>-73.968095</td>\n",
       "      <td>40.768008</td>\n",
       "      <td>-73.956655</td>\n",
       "      <td>40.783762</td>\n",
       "      <td>1</td>\n",
       "    </tr>\n",
       "    <tr>\n",
       "      <th>2</th>\n",
       "      <td>2010</td>\n",
       "      <td>5.30</td>\n",
       "      <td>733960</td>\n",
       "      <td>-73.969505</td>\n",
       "      <td>40.784843</td>\n",
       "      <td>-73.958732</td>\n",
       "      <td>40.783357</td>\n",
       "      <td>1</td>\n",
       "    </tr>\n",
       "    <tr>\n",
       "      <th>3</th>\n",
       "      <td>2010</td>\n",
       "      <td>10.50</td>\n",
       "      <td>734022</td>\n",
       "      <td>-73.985382</td>\n",
       "      <td>40.747858</td>\n",
       "      <td>-73.978377</td>\n",
       "      <td>40.762070</td>\n",
       "      <td>1</td>\n",
       "    </tr>\n",
       "    <tr>\n",
       "      <th>4</th>\n",
       "      <td>2010</td>\n",
       "      <td>4.90</td>\n",
       "      <td>734112</td>\n",
       "      <td>-74.000632</td>\n",
       "      <td>40.747473</td>\n",
       "      <td>-73.986672</td>\n",
       "      <td>40.740577</td>\n",
       "      <td>1</td>\n",
       "    </tr>\n",
       "    <tr>\n",
       "      <th>5</th>\n",
       "      <td>2010</td>\n",
       "      <td>34.67</td>\n",
       "      <td>733923</td>\n",
       "      <td>-73.985427</td>\n",
       "      <td>40.758853</td>\n",
       "      <td>-73.872907</td>\n",
       "      <td>40.774497</td>\n",
       "      <td>1</td>\n",
       "    </tr>\n",
       "    <tr>\n",
       "      <th>6</th>\n",
       "      <td>2010</td>\n",
       "      <td>3.70</td>\n",
       "      <td>733803</td>\n",
       "      <td>-74.001630</td>\n",
       "      <td>40.730767</td>\n",
       "      <td>-73.997112</td>\n",
       "      <td>40.737533</td>\n",
       "      <td>1</td>\n",
       "    </tr>\n",
       "    <tr>\n",
       "      <th>7</th>\n",
       "      <td>2010</td>\n",
       "      <td>6.90</td>\n",
       "      <td>733906</td>\n",
       "      <td>-73.955118</td>\n",
       "      <td>40.768942</td>\n",
       "      <td>-73.963495</td>\n",
       "      <td>40.761887</td>\n",
       "      <td>2</td>\n",
       "    </tr>\n",
       "    <tr>\n",
       "      <th>8</th>\n",
       "      <td>2010</td>\n",
       "      <td>15.07</td>\n",
       "      <td>734000</td>\n",
       "      <td>-73.961933</td>\n",
       "      <td>40.795585</td>\n",
       "      <td>-73.962253</td>\n",
       "      <td>40.764817</td>\n",
       "      <td>2</td>\n",
       "    </tr>\n",
       "    <tr>\n",
       "      <th>9</th>\n",
       "      <td>2010</td>\n",
       "      <td>7.70</td>\n",
       "      <td>734110</td>\n",
       "      <td>-73.996601</td>\n",
       "      <td>40.736569</td>\n",
       "      <td>-73.982152</td>\n",
       "      <td>40.744322</td>\n",
       "      <td>1</td>\n",
       "    </tr>\n",
       "    <tr>\n",
       "      <th>10</th>\n",
       "      <td>2010</td>\n",
       "      <td>5.70</td>\n",
       "      <td>734003</td>\n",
       "      <td>-73.973830</td>\n",
       "      <td>40.763717</td>\n",
       "      <td>-73.989420</td>\n",
       "      <td>40.771522</td>\n",
       "      <td>1</td>\n",
       "    </tr>\n",
       "    <tr>\n",
       "      <th>11</th>\n",
       "      <td>2010</td>\n",
       "      <td>10.50</td>\n",
       "      <td>733889</td>\n",
       "      <td>-74.001135</td>\n",
       "      <td>40.730979</td>\n",
       "      <td>-73.984424</td>\n",
       "      <td>40.764630</td>\n",
       "      <td>1</td>\n",
       "    </tr>\n",
       "    <tr>\n",
       "      <th>12</th>\n",
       "      <td>2010</td>\n",
       "      <td>5.70</td>\n",
       "      <td>733927</td>\n",
       "      <td>-73.993452</td>\n",
       "      <td>40.761447</td>\n",
       "      <td>-73.979662</td>\n",
       "      <td>40.759618</td>\n",
       "      <td>5</td>\n",
       "    </tr>\n",
       "    <tr>\n",
       "      <th>13</th>\n",
       "      <td>2010</td>\n",
       "      <td>9.70</td>\n",
       "      <td>734084</td>\n",
       "      <td>-73.970705</td>\n",
       "      <td>40.761643</td>\n",
       "      <td>-73.992833</td>\n",
       "      <td>40.727647</td>\n",
       "      <td>2</td>\n",
       "    </tr>\n",
       "    <tr>\n",
       "      <th>14</th>\n",
       "      <td>2010</td>\n",
       "      <td>11.30</td>\n",
       "      <td>733853</td>\n",
       "      <td>-74.007670</td>\n",
       "      <td>40.732177</td>\n",
       "      <td>-73.974663</td>\n",
       "      <td>40.758932</td>\n",
       "      <td>1</td>\n",
       "    </tr>\n",
       "    <tr>\n",
       "      <th>15</th>\n",
       "      <td>2010</td>\n",
       "      <td>14.50</td>\n",
       "      <td>733858</td>\n",
       "      <td>-73.961598</td>\n",
       "      <td>40.716487</td>\n",
       "      <td>-73.960417</td>\n",
       "      <td>40.674963</td>\n",
       "      <td>2</td>\n",
       "    </tr>\n",
       "    <tr>\n",
       "      <th>16</th>\n",
       "      <td>2010</td>\n",
       "      <td>5.30</td>\n",
       "      <td>733775</td>\n",
       "      <td>-73.995083</td>\n",
       "      <td>40.739527</td>\n",
       "      <td>-73.999599</td>\n",
       "      <td>40.726264</td>\n",
       "      <td>3</td>\n",
       "    </tr>\n",
       "    <tr>\n",
       "      <th>17</th>\n",
       "      <td>2010</td>\n",
       "      <td>10.50</td>\n",
       "      <td>733940</td>\n",
       "      <td>-73.966473</td>\n",
       "      <td>40.757500</td>\n",
       "      <td>-73.993336</td>\n",
       "      <td>40.745051</td>\n",
       "      <td>1</td>\n",
       "    </tr>\n",
       "    <tr>\n",
       "      <th>18</th>\n",
       "      <td>2010</td>\n",
       "      <td>7.30</td>\n",
       "      <td>734045</td>\n",
       "      <td>-73.986588</td>\n",
       "      <td>40.721650</td>\n",
       "      <td>-74.008005</td>\n",
       "      <td>40.717167</td>\n",
       "      <td>2</td>\n",
       "    </tr>\n",
       "    <tr>\n",
       "      <th>19</th>\n",
       "      <td>2010</td>\n",
       "      <td>12.50</td>\n",
       "      <td>734008</td>\n",
       "      <td>-74.003848</td>\n",
       "      <td>40.720855</td>\n",
       "      <td>-73.980980</td>\n",
       "      <td>40.668304</td>\n",
       "      <td>1</td>\n",
       "    </tr>\n",
       "  </tbody>\n",
       "</table>\n",
       "</div>"
      ],
      "text/plain": [
       "     key  fare_amount  pickup_datetime  pickup_longitude  pickup_latitude  \\\n",
       "0   2010        16.90           733777        -74.016048        40.711303   \n",
       "1   2010         5.30           733840        -73.968095        40.768008   \n",
       "2   2010         5.30           733960        -73.969505        40.784843   \n",
       "3   2010        10.50           734022        -73.985382        40.747858   \n",
       "4   2010         4.90           734112        -74.000632        40.747473   \n",
       "5   2010        34.67           733923        -73.985427        40.758853   \n",
       "6   2010         3.70           733803        -74.001630        40.730767   \n",
       "7   2010         6.90           733906        -73.955118        40.768942   \n",
       "8   2010        15.07           734000        -73.961933        40.795585   \n",
       "9   2010         7.70           734110        -73.996601        40.736569   \n",
       "10  2010         5.70           734003        -73.973830        40.763717   \n",
       "11  2010        10.50           733889        -74.001135        40.730979   \n",
       "12  2010         5.70           733927        -73.993452        40.761447   \n",
       "13  2010         9.70           734084        -73.970705        40.761643   \n",
       "14  2010        11.30           733853        -74.007670        40.732177   \n",
       "15  2010        14.50           733858        -73.961598        40.716487   \n",
       "16  2010         5.30           733775        -73.995083        40.739527   \n",
       "17  2010        10.50           733940        -73.966473        40.757500   \n",
       "18  2010         7.30           734045        -73.986588        40.721650   \n",
       "19  2010        12.50           734008        -74.003848        40.720855   \n",
       "\n",
       "    dropoff_longitude  dropoff_latitude  passenger_count  \n",
       "0          -73.979268         40.782004                1  \n",
       "1          -73.956655         40.783762                1  \n",
       "2          -73.958732         40.783357                1  \n",
       "3          -73.978377         40.762070                1  \n",
       "4          -73.986672         40.740577                1  \n",
       "5          -73.872907         40.774497                1  \n",
       "6          -73.997112         40.737533                1  \n",
       "7          -73.963495         40.761887                2  \n",
       "8          -73.962253         40.764817                2  \n",
       "9          -73.982152         40.744322                1  \n",
       "10         -73.989420         40.771522                1  \n",
       "11         -73.984424         40.764630                1  \n",
       "12         -73.979662         40.759618                5  \n",
       "13         -73.992833         40.727647                2  \n",
       "14         -73.974663         40.758932                1  \n",
       "15         -73.960417         40.674963                2  \n",
       "16         -73.999599         40.726264                3  \n",
       "17         -73.993336         40.745051                1  \n",
       "18         -74.008005         40.717167                2  \n",
       "19         -73.980980         40.668304                1  "
      ]
     },
     "execution_count": 7,
     "metadata": {},
     "output_type": "execute_result"
    }
   ],
   "source": [
    "data_reduce_2010.head(20)"
   ]
  },
  {
   "cell_type": "code",
   "execution_count": 9,
   "id": "fd3ae18c",
   "metadata": {},
   "outputs": [
    {
     "data": {
      "text/plain": [
       "8354997"
      ]
     },
     "execution_count": 9,
     "metadata": {},
     "output_type": "execute_result"
    }
   ],
   "source": [
    "data_reduce_2010.shape[0]"
   ]
  },
  {
   "cell_type": "code",
   "execution_count": 10,
   "id": "4657ad7a",
   "metadata": {},
   "outputs": [
    {
     "data": {
      "text/plain": [
       "key                  0\n",
       "fare_amount          0\n",
       "pickup_datetime      0\n",
       "pickup_longitude     0\n",
       "pickup_latitude      0\n",
       "dropoff_longitude    3\n",
       "dropoff_latitude     3\n",
       "passenger_count      0\n",
       "dtype: int64"
      ]
     },
     "execution_count": 10,
     "metadata": {},
     "output_type": "execute_result"
    }
   ],
   "source": [
    "data_reduce_2010.isnull().sum()"
   ]
  },
  {
   "cell_type": "code",
   "execution_count": 11,
   "id": "0622f60d",
   "metadata": {},
   "outputs": [],
   "source": [
    "data_reduce_2010=data_reduce_2010.dropna(axis=0)"
   ]
  },
  {
   "cell_type": "code",
   "execution_count": 12,
   "id": "50bc34c2",
   "metadata": {},
   "outputs": [
    {
     "data": {
      "text/plain": [
       "key                  0\n",
       "fare_amount          0\n",
       "pickup_datetime      0\n",
       "pickup_longitude     0\n",
       "pickup_latitude      0\n",
       "dropoff_longitude    0\n",
       "dropoff_latitude     0\n",
       "passenger_count      0\n",
       "dtype: int64"
      ]
     },
     "execution_count": 12,
     "metadata": {},
     "output_type": "execute_result"
    }
   ],
   "source": [
    "data_reduce_2010.isnull().sum()"
   ]
  },
  {
   "cell_type": "code",
   "execution_count": 13,
   "id": "26f9c910",
   "metadata": {},
   "outputs": [],
   "source": [
    "data_reduce_2010=data_reduce_2010[data_reduce_2010.pickup_longitude !=0]\n",
    "data_reduce_2010=data_reduce_2010[data_reduce_2010.pickup_latitude !=0]\n",
    "data_reduce_2010=data_reduce_2010[data_reduce_2010.dropoff_longitude !=0]\n",
    "data_reduce_2010=data_reduce_2010[data_reduce_2010.dropoff_latitude !=0]"
   ]
  },
  {
   "cell_type": "code",
   "execution_count": 14,
   "id": "8e000a82",
   "metadata": {},
   "outputs": [
    {
     "name": "stdout",
     "output_type": "stream",
     "text": [
      "8176426  registros de 8354997\n"
     ]
    }
   ],
   "source": [
    "print(data_reduce_2010.shape[0],\" registros de 8354997\")"
   ]
  },
  {
   "cell_type": "code",
   "execution_count": 15,
   "id": "db4a6c3b",
   "metadata": {},
   "outputs": [],
   "source": [
    "from sklearn.preprocessing import StandardScaler\n",
    "from sklearn.model_selection import train_test_split\n",
    "train, test = train_test_split(data_reduce_2010, test_size = 0.30, random_state = 1000)\n",
    "train.to_csv('data_reduce_2010_train.csv',index=False,mode='a')\n",
    "test.to_csv('data_reduce_2010_test.csv',index=False,mode='a')"
   ]
  },
  {
   "cell_type": "code",
   "execution_count": 17,
   "id": "0fd29880",
   "metadata": {},
   "outputs": [],
   "source": [
    "predictores = ['pickup_datetime','pickup_longitude','pickup_latitude','dropoff_longitude','dropoff_latitude','passenger_count']\n",
    "salida = 'fare_amount'\n",
    "X_train=pd.read_csv('data_reduce_2010_train.csv')[predictores]\n",
    "y_train=pd.read_csv('data_reduce_2010_train.csv')[salida]\n",
    "X_test=pd.read_csv('data_reduce_2010_test.csv')[predictores]\n",
    "y_test=pd.read_csv('data_reduce_2010_test.csv')[salida]\n",
    "\n",
    "assert X_train.shape[0]==y_train.shape[0], 'Train No tiene el mismo numero de registros'\n",
    "assert X_test.shape[0]==y_test.shape[0], 'Test No tiene el mismo numero de registros'\n",
    "assert X_train.shape[0]+X_test.shape[0]==8176426, 'Existen registros faltantes'\n",
    "assert y_train.shape[0]+y_test.shape[0]==8176426, 'Existen registros faltantes'"
   ]
  },
  {
   "cell_type": "code",
   "execution_count": 31,
   "id": "5cf72a2e",
   "metadata": {},
   "outputs": [],
   "source": [
    "scaler = StandardScaler()\n",
    "scaler.fit(X_train)\n",
    "X_train_s=scaler.transform(X_train)\n",
    "X_test_s=scaler.transform(X_test)"
   ]
  },
  {
   "cell_type": "code",
   "execution_count": 32,
   "id": "58a63d7e",
   "metadata": {},
   "outputs": [],
   "source": [
    "import joblib\n",
    "from sklearn.ensemble import RandomForestRegressor\n",
    "from sklearn.tree import DecisionTreeRegressor\n",
    "from sklearn.metrics import recall_score\n",
    "from sklearn.metrics import precision_score\n",
    "from sklearn.metrics import r2_score\n",
    "from sklearn.metrics import explained_variance_score\n",
    "from sklearn.metrics import mean_squared_error\n"
   ]
  },
  {
   "cell_type": "markdown",
   "id": "a6195481",
   "metadata": {},
   "source": [
    "#### Entrenamiento con Modelo RandomForestRegressor con 10 estimadores"
   ]
  },
  {
   "cell_type": "markdown",
   "id": "9b22e7d9",
   "metadata": {},
   "source": [
    "Nuestra puntuacion es baja, por lo que es recomendable intentar otro tipo de regresor, no es un buen modelo."
   ]
  },
  {
   "cell_type": "code",
   "execution_count": 38,
   "id": "29d2b272",
   "metadata": {},
   "outputs": [],
   "source": [
    "from sklearn.ensemble import RandomForestRegressor\n",
    "regresor = RandomForestRegressor(n_estimators=10,random_state=0)\n",
    "regresor.fit(X_train_s, y_train)\n",
    "y_pred=regresor.predict(X_test_s)"
   ]
  },
  {
   "cell_type": "code",
   "execution_count": 39,
   "id": "82d808d4",
   "metadata": {},
   "outputs": [
    {
     "data": {
      "text/plain": [
       "0.4875833717182503"
      ]
     },
     "execution_count": 39,
     "metadata": {},
     "output_type": "execute_result"
    }
   ],
   "source": [
    "r2_score(y_test, y_pred)"
   ]
  },
  {
   "cell_type": "code",
   "execution_count": 40,
   "id": "6436a5af",
   "metadata": {},
   "outputs": [
    {
     "data": {
      "text/plain": [
       "0.4876436909409292"
      ]
     },
     "execution_count": 40,
     "metadata": {},
     "output_type": "execute_result"
    }
   ],
   "source": [
    "explained_variance_score(y_test, y_pred)"
   ]
  },
  {
   "cell_type": "code",
   "execution_count": 41,
   "id": "8d962881",
   "metadata": {},
   "outputs": [
    {
     "data": {
      "text/plain": [
       "54.976648122283514"
      ]
     },
     "execution_count": 41,
     "metadata": {},
     "output_type": "execute_result"
    }
   ],
   "source": [
    "mean_squared_error(y_test, y_pred)"
   ]
  },
  {
   "cell_type": "markdown",
   "id": "06586841",
   "metadata": {},
   "source": [
    "## TRABAJANDO CON DATA AÑO 2011"
   ]
  },
  {
   "cell_type": "markdown",
   "id": "5ddb70f8",
   "metadata": {},
   "source": [
    "Procederemos de la misma manera con este año en especifico, por lo que se dejara de comentar los pasos."
   ]
  },
  {
   "cell_type": "code",
   "execution_count": 1,
   "id": "ed30519a",
   "metadata": {},
   "outputs": [
    {
     "name": "stdout",
     "output_type": "stream",
     "text": [
      "Chunk dataframe 5 size acumulado: 0.0726 GB\n",
      "Chunk dataframe 10 size acumulado: 0.1452 GB\n",
      "Chunk dataframe 15 size acumulado: 0.2178 GB\n",
      "Chunk dataframe 20 size acumulado: 0.2905 GB\n",
      "Chunk dataframe 25 size acumulado: 0.3631 GB\n",
      "Chunk dataframe 30 size acumulado: 0.4357 GB\n",
      "Chunk dataframe 35 size acumulado: 0.5083 GB\n",
      "Chunk dataframe 40 size acumulado: 0.5809 GB\n",
      "Chunk dataframe 45 size acumulado: 0.6535 GB\n",
      "Chunk dataframe 50 size acumulado: 0.7262 GB\n",
      "Chunk dataframe 55 size acumulado: 0.7988 GB\n",
      "Chunk dataframe 60 size acumulado: 0.8714 GB\n",
      "Chunk dataframe 65 size acumulado: 0.9440 GB\n",
      "Chunk dataframe 70 size acumulado: 1.0166 GB\n",
      "Chunk dataframe 75 size acumulado: 1.0892 GB\n",
      "Chunk dataframe 80 size acumulado: 1.1619 GB\n",
      "Chunk dataframe 85 size acumulado: 1.2345 GB\n"
     ]
    }
   ],
   "source": [
    "import datetime as dt\n",
    "import pandas as pd\n",
    "from sys import getsizeof\n",
    "data_reduce_2011=pd.DataFrame({},columns = ['key','fare_amount', 'pickup_datetime', 'pickup_longitude','pickup_latitude','dropoff_longitude','dropoff_latitude','passenger_count'])\n",
    "TamañoChunks = 100000\n",
    "iteracion=0\n",
    "for chunk in pd.read_csv('2011.csv', chunksize=TamañoChunks):\n",
    "        chunk['pickup_datetime']=pd.to_datetime(chunk['pickup_datetime'])\n",
    "        chunk['pickup_datetime']=chunk['pickup_datetime'].map(dt.datetime.toordinal)\n",
    "        data_reduce_2011 = pd.concat([data_reduce_2011,chunk])\n",
    "        iteracion=iteracion+1\n",
    "        if iteracion%5==0:\n",
    "            print('Chunk dataframe %d '%iteracion +'size acumulado: %2.4f GB'%(getsizeof(data_reduce_2011)/(1024.0**3)))"
   ]
  },
  {
   "cell_type": "code",
   "execution_count": 2,
   "id": "0aee3325",
   "metadata": {},
   "outputs": [
    {
     "data": {
      "text/plain": [
       "8841346"
      ]
     },
     "execution_count": 2,
     "metadata": {},
     "output_type": "execute_result"
    }
   ],
   "source": [
    "data_reduce_2011.shape[0]"
   ]
  },
  {
   "cell_type": "code",
   "execution_count": 3,
   "id": "d18cf892",
   "metadata": {},
   "outputs": [],
   "source": [
    "data_reduce_2011.to_csv('data_reduce_2011.csv',index=False,mode='a')"
   ]
  },
  {
   "cell_type": "code",
   "execution_count": 4,
   "id": "c2eab5f2",
   "metadata": {},
   "outputs": [],
   "source": [
    "data_reduce_2011=pd.read_csv('data_reduce_2011.csv')"
   ]
  },
  {
   "cell_type": "code",
   "execution_count": 5,
   "id": "a4ca2f47",
   "metadata": {},
   "outputs": [],
   "source": [
    "data_reduce_2011['pickup_datetime']=data_reduce_2011['pickup_datetime'].astype('uint32')      \n",
    "data_reduce_2011['fare_amount']=data_reduce_2011['fare_amount'].astype('float32')\n",
    "data_reduce_2011['passenger_count']=data_reduce_2011['passenger_count'].astype('uint8')"
   ]
  },
  {
   "cell_type": "code",
   "execution_count": 6,
   "id": "1f35bc89",
   "metadata": {},
   "outputs": [
    {
     "data": {
      "text/html": [
       "<div>\n",
       "<style scoped>\n",
       "    .dataframe tbody tr th:only-of-type {\n",
       "        vertical-align: middle;\n",
       "    }\n",
       "\n",
       "    .dataframe tbody tr th {\n",
       "        vertical-align: top;\n",
       "    }\n",
       "\n",
       "    .dataframe thead th {\n",
       "        text-align: right;\n",
       "    }\n",
       "</style>\n",
       "<table border=\"1\" class=\"dataframe\">\n",
       "  <thead>\n",
       "    <tr style=\"text-align: right;\">\n",
       "      <th></th>\n",
       "      <th>key</th>\n",
       "      <th>fare_amount</th>\n",
       "      <th>pickup_datetime</th>\n",
       "      <th>pickup_longitude</th>\n",
       "      <th>pickup_latitude</th>\n",
       "      <th>dropoff_longitude</th>\n",
       "      <th>dropoff_latitude</th>\n",
       "      <th>passenger_count</th>\n",
       "    </tr>\n",
       "  </thead>\n",
       "  <tbody>\n",
       "    <tr>\n",
       "      <th>0</th>\n",
       "      <td>2011</td>\n",
       "      <td>5.7</td>\n",
       "      <td>734367</td>\n",
       "      <td>-73.982738</td>\n",
       "      <td>40.761270</td>\n",
       "      <td>-73.991242</td>\n",
       "      <td>40.750562</td>\n",
       "      <td>2</td>\n",
       "    </tr>\n",
       "    <tr>\n",
       "      <th>1</th>\n",
       "      <td>2011</td>\n",
       "      <td>12.1</td>\n",
       "      <td>734143</td>\n",
       "      <td>-74.000964</td>\n",
       "      <td>40.731630</td>\n",
       "      <td>-73.972892</td>\n",
       "      <td>40.758233</td>\n",
       "      <td>1</td>\n",
       "    </tr>\n",
       "    <tr>\n",
       "      <th>2</th>\n",
       "      <td>2011</td>\n",
       "      <td>7.7</td>\n",
       "      <td>734232</td>\n",
       "      <td>-74.001821</td>\n",
       "      <td>40.737547</td>\n",
       "      <td>-73.998060</td>\n",
       "      <td>40.722788</td>\n",
       "      <td>2</td>\n",
       "    </tr>\n",
       "    <tr>\n",
       "      <th>3</th>\n",
       "      <td>2011</td>\n",
       "      <td>7.3</td>\n",
       "      <td>734309</td>\n",
       "      <td>-73.991875</td>\n",
       "      <td>40.754437</td>\n",
       "      <td>-73.977230</td>\n",
       "      <td>40.774323</td>\n",
       "      <td>3</td>\n",
       "    </tr>\n",
       "    <tr>\n",
       "      <th>4</th>\n",
       "      <td>2011</td>\n",
       "      <td>6.5</td>\n",
       "      <td>734175</td>\n",
       "      <td>0.000000</td>\n",
       "      <td>0.000000</td>\n",
       "      <td>0.000000</td>\n",
       "      <td>0.000000</td>\n",
       "      <td>1</td>\n",
       "    </tr>\n",
       "    <tr>\n",
       "      <th>5</th>\n",
       "      <td>2011</td>\n",
       "      <td>4.5</td>\n",
       "      <td>734316</td>\n",
       "      <td>-73.988893</td>\n",
       "      <td>40.760160</td>\n",
       "      <td>-73.986445</td>\n",
       "      <td>40.757857</td>\n",
       "      <td>3</td>\n",
       "    </tr>\n",
       "    <tr>\n",
       "      <th>6</th>\n",
       "      <td>2011</td>\n",
       "      <td>5.7</td>\n",
       "      <td>734387</td>\n",
       "      <td>-73.976162</td>\n",
       "      <td>40.744988</td>\n",
       "      <td>-73.990002</td>\n",
       "      <td>40.738323</td>\n",
       "      <td>2</td>\n",
       "    </tr>\n",
       "    <tr>\n",
       "      <th>7</th>\n",
       "      <td>2011</td>\n",
       "      <td>18.1</td>\n",
       "      <td>734387</td>\n",
       "      <td>-73.993717</td>\n",
       "      <td>40.740785</td>\n",
       "      <td>-73.999272</td>\n",
       "      <td>40.676617</td>\n",
       "      <td>1</td>\n",
       "    </tr>\n",
       "    <tr>\n",
       "      <th>8</th>\n",
       "      <td>2011</td>\n",
       "      <td>8.1</td>\n",
       "      <td>734225</td>\n",
       "      <td>-73.984267</td>\n",
       "      <td>40.744961</td>\n",
       "      <td>-73.981646</td>\n",
       "      <td>40.759608</td>\n",
       "      <td>1</td>\n",
       "    </tr>\n",
       "    <tr>\n",
       "      <th>9</th>\n",
       "      <td>2011</td>\n",
       "      <td>10.9</td>\n",
       "      <td>734425</td>\n",
       "      <td>-74.003899</td>\n",
       "      <td>40.725514</td>\n",
       "      <td>-73.976484</td>\n",
       "      <td>40.765537</td>\n",
       "      <td>2</td>\n",
       "    </tr>\n",
       "    <tr>\n",
       "      <th>10</th>\n",
       "      <td>2011</td>\n",
       "      <td>5.3</td>\n",
       "      <td>734200</td>\n",
       "      <td>-73.997037</td>\n",
       "      <td>40.737095</td>\n",
       "      <td>-73.986128</td>\n",
       "      <td>40.735043</td>\n",
       "      <td>1</td>\n",
       "    </tr>\n",
       "    <tr>\n",
       "      <th>11</th>\n",
       "      <td>2011</td>\n",
       "      <td>6.9</td>\n",
       "      <td>734380</td>\n",
       "      <td>-73.971114</td>\n",
       "      <td>40.758944</td>\n",
       "      <td>-73.977930</td>\n",
       "      <td>40.736613</td>\n",
       "      <td>1</td>\n",
       "    </tr>\n",
       "    <tr>\n",
       "      <th>12</th>\n",
       "      <td>2011</td>\n",
       "      <td>4.5</td>\n",
       "      <td>734289</td>\n",
       "      <td>-73.980822</td>\n",
       "      <td>40.744420</td>\n",
       "      <td>-73.991093</td>\n",
       "      <td>40.748797</td>\n",
       "      <td>1</td>\n",
       "    </tr>\n",
       "    <tr>\n",
       "      <th>13</th>\n",
       "      <td>2011</td>\n",
       "      <td>3.3</td>\n",
       "      <td>734485</td>\n",
       "      <td>-73.988877</td>\n",
       "      <td>40.763577</td>\n",
       "      <td>-73.985573</td>\n",
       "      <td>40.760262</td>\n",
       "      <td>1</td>\n",
       "    </tr>\n",
       "    <tr>\n",
       "      <th>14</th>\n",
       "      <td>2011</td>\n",
       "      <td>9.7</td>\n",
       "      <td>734477</td>\n",
       "      <td>-73.985582</td>\n",
       "      <td>40.739765</td>\n",
       "      <td>-73.973899</td>\n",
       "      <td>40.760426</td>\n",
       "      <td>1</td>\n",
       "    </tr>\n",
       "    <tr>\n",
       "      <th>15</th>\n",
       "      <td>2011</td>\n",
       "      <td>9.7</td>\n",
       "      <td>734215</td>\n",
       "      <td>-73.979542</td>\n",
       "      <td>40.727498</td>\n",
       "      <td>-73.999315</td>\n",
       "      <td>40.730088</td>\n",
       "      <td>4</td>\n",
       "    </tr>\n",
       "    <tr>\n",
       "      <th>16</th>\n",
       "      <td>2011</td>\n",
       "      <td>4.5</td>\n",
       "      <td>734249</td>\n",
       "      <td>-74.009137</td>\n",
       "      <td>40.713436</td>\n",
       "      <td>-74.002823</td>\n",
       "      <td>40.723428</td>\n",
       "      <td>3</td>\n",
       "    </tr>\n",
       "    <tr>\n",
       "      <th>17</th>\n",
       "      <td>2011</td>\n",
       "      <td>7.3</td>\n",
       "      <td>734448</td>\n",
       "      <td>-74.003919</td>\n",
       "      <td>40.753019</td>\n",
       "      <td>-73.992368</td>\n",
       "      <td>40.735362</td>\n",
       "      <td>1</td>\n",
       "    </tr>\n",
       "    <tr>\n",
       "      <th>18</th>\n",
       "      <td>2011</td>\n",
       "      <td>24.9</td>\n",
       "      <td>734361</td>\n",
       "      <td>-74.006662</td>\n",
       "      <td>40.731210</td>\n",
       "      <td>-73.925940</td>\n",
       "      <td>40.825588</td>\n",
       "      <td>1</td>\n",
       "    </tr>\n",
       "    <tr>\n",
       "      <th>19</th>\n",
       "      <td>2011</td>\n",
       "      <td>12.5</td>\n",
       "      <td>734380</td>\n",
       "      <td>-73.917399</td>\n",
       "      <td>40.746485</td>\n",
       "      <td>-73.973756</td>\n",
       "      <td>40.763836</td>\n",
       "      <td>1</td>\n",
       "    </tr>\n",
       "  </tbody>\n",
       "</table>\n",
       "</div>"
      ],
      "text/plain": [
       "     key  fare_amount  pickup_datetime  pickup_longitude  pickup_latitude  \\\n",
       "0   2011          5.7           734367        -73.982738        40.761270   \n",
       "1   2011         12.1           734143        -74.000964        40.731630   \n",
       "2   2011          7.7           734232        -74.001821        40.737547   \n",
       "3   2011          7.3           734309        -73.991875        40.754437   \n",
       "4   2011          6.5           734175          0.000000         0.000000   \n",
       "5   2011          4.5           734316        -73.988893        40.760160   \n",
       "6   2011          5.7           734387        -73.976162        40.744988   \n",
       "7   2011         18.1           734387        -73.993717        40.740785   \n",
       "8   2011          8.1           734225        -73.984267        40.744961   \n",
       "9   2011         10.9           734425        -74.003899        40.725514   \n",
       "10  2011          5.3           734200        -73.997037        40.737095   \n",
       "11  2011          6.9           734380        -73.971114        40.758944   \n",
       "12  2011          4.5           734289        -73.980822        40.744420   \n",
       "13  2011          3.3           734485        -73.988877        40.763577   \n",
       "14  2011          9.7           734477        -73.985582        40.739765   \n",
       "15  2011          9.7           734215        -73.979542        40.727498   \n",
       "16  2011          4.5           734249        -74.009137        40.713436   \n",
       "17  2011          7.3           734448        -74.003919        40.753019   \n",
       "18  2011         24.9           734361        -74.006662        40.731210   \n",
       "19  2011         12.5           734380        -73.917399        40.746485   \n",
       "\n",
       "    dropoff_longitude  dropoff_latitude  passenger_count  \n",
       "0          -73.991242         40.750562                2  \n",
       "1          -73.972892         40.758233                1  \n",
       "2          -73.998060         40.722788                2  \n",
       "3          -73.977230         40.774323                3  \n",
       "4            0.000000          0.000000                1  \n",
       "5          -73.986445         40.757857                3  \n",
       "6          -73.990002         40.738323                2  \n",
       "7          -73.999272         40.676617                1  \n",
       "8          -73.981646         40.759608                1  \n",
       "9          -73.976484         40.765537                2  \n",
       "10         -73.986128         40.735043                1  \n",
       "11         -73.977930         40.736613                1  \n",
       "12         -73.991093         40.748797                1  \n",
       "13         -73.985573         40.760262                1  \n",
       "14         -73.973899         40.760426                1  \n",
       "15         -73.999315         40.730088                4  \n",
       "16         -74.002823         40.723428                3  \n",
       "17         -73.992368         40.735362                1  \n",
       "18         -73.925940         40.825588                1  \n",
       "19         -73.973756         40.763836                1  "
      ]
     },
     "execution_count": 6,
     "metadata": {},
     "output_type": "execute_result"
    }
   ],
   "source": [
    "data_reduce_2011.head(20)"
   ]
  },
  {
   "cell_type": "code",
   "execution_count": 7,
   "id": "30b34788",
   "metadata": {},
   "outputs": [
    {
     "data": {
      "text/plain": [
       "8841346"
      ]
     },
     "execution_count": 7,
     "metadata": {},
     "output_type": "execute_result"
    }
   ],
   "source": [
    "data_reduce_2011.shape[0]"
   ]
  },
  {
   "cell_type": "code",
   "execution_count": 8,
   "id": "0915865b",
   "metadata": {},
   "outputs": [
    {
     "data": {
      "text/plain": [
       "key                   0\n",
       "fare_amount           0\n",
       "pickup_datetime       0\n",
       "pickup_longitude      0\n",
       "pickup_latitude       0\n",
       "dropoff_longitude    52\n",
       "dropoff_latitude     52\n",
       "passenger_count       0\n",
       "dtype: int64"
      ]
     },
     "execution_count": 8,
     "metadata": {},
     "output_type": "execute_result"
    }
   ],
   "source": [
    "data_reduce_2011.isnull().sum()"
   ]
  },
  {
   "cell_type": "code",
   "execution_count": 9,
   "id": "88fa54b0",
   "metadata": {},
   "outputs": [],
   "source": [
    "data_reduce_2011=data_reduce_2011.dropna(axis=0)"
   ]
  },
  {
   "cell_type": "code",
   "execution_count": 10,
   "id": "daad49ed",
   "metadata": {},
   "outputs": [
    {
     "data": {
      "text/plain": [
       "key                  0\n",
       "fare_amount          0\n",
       "pickup_datetime      0\n",
       "pickup_longitude     0\n",
       "pickup_latitude      0\n",
       "dropoff_longitude    0\n",
       "dropoff_latitude     0\n",
       "passenger_count      0\n",
       "dtype: int64"
      ]
     },
     "execution_count": 10,
     "metadata": {},
     "output_type": "execute_result"
    }
   ],
   "source": [
    "data_reduce_2011.isnull().sum()"
   ]
  },
  {
   "cell_type": "code",
   "execution_count": 11,
   "id": "1bbf92dc",
   "metadata": {},
   "outputs": [],
   "source": [
    "data_reduce_2011=data_reduce_2011[data_reduce_2011.pickup_longitude !=0]\n",
    "data_reduce_2011=data_reduce_2011[data_reduce_2011.pickup_latitude !=0]\n",
    "data_reduce_2011=data_reduce_2011[data_reduce_2011.dropoff_longitude !=0]\n",
    "data_reduce_2011=data_reduce_2011[data_reduce_2011.dropoff_latitude !=0]"
   ]
  },
  {
   "cell_type": "code",
   "execution_count": 12,
   "id": "b7be3e8d",
   "metadata": {},
   "outputs": [
    {
     "name": "stdout",
     "output_type": "stream",
     "text": [
      "8637729  registros de 8841346\n"
     ]
    }
   ],
   "source": [
    "print(data_reduce_2011.shape[0],\" registros de 8841346\")"
   ]
  },
  {
   "cell_type": "code",
   "execution_count": 13,
   "id": "af4ddaed",
   "metadata": {},
   "outputs": [],
   "source": [
    "from sklearn.preprocessing import StandardScaler\n",
    "from sklearn.model_selection import train_test_split\n",
    "train, test = train_test_split(data_reduce_2011, test_size = 0.30, random_state = 1000)\n",
    "train.to_csv('data_reduce_2011_train.csv',index=False,mode='a')\n",
    "test.to_csv('data_reduce_2011_test.csv',index=False,mode='a')"
   ]
  },
  {
   "cell_type": "code",
   "execution_count": 14,
   "id": "f2d70473",
   "metadata": {},
   "outputs": [],
   "source": [
    "predictores = ['pickup_datetime','pickup_longitude','pickup_latitude','dropoff_longitude','dropoff_latitude','passenger_count']\n",
    "salida = 'fare_amount'\n",
    "X_train=pd.read_csv('data_reduce_2011_train.csv')[predictores]\n",
    "y_train=pd.read_csv('data_reduce_2011_train.csv')[salida]\n",
    "X_test=pd.read_csv('data_reduce_2011_test.csv')[predictores]\n",
    "y_test=pd.read_csv('data_reduce_2011_test.csv')[salida]\n",
    "\n",
    "assert X_train.shape[0]==y_train.shape[0], 'Train No tiene el mismo numero de registros'\n",
    "assert X_test.shape[0]==y_test.shape[0], 'Test No tiene el mismo numero de registros'\n",
    "assert X_train.shape[0]+X_test.shape[0]==8637729, 'Existen registros faltantes'\n",
    "assert y_train.shape[0]+y_test.shape[0]==8637729, 'Existen registros faltantes'"
   ]
  },
  {
   "cell_type": "code",
   "execution_count": 15,
   "id": "041988a6",
   "metadata": {},
   "outputs": [],
   "source": [
    "scaler = StandardScaler()\n",
    "scaler.fit(X_train)\n",
    "X_train_s=scaler.transform(X_train)\n",
    "X_test_s=scaler.transform(X_test)"
   ]
  },
  {
   "cell_type": "markdown",
   "id": "dc4293f8",
   "metadata": {},
   "source": [
    "#### Entrenamiento con Random Forest con 10 estimadores"
   ]
  },
  {
   "cell_type": "code",
   "execution_count": 16,
   "id": "41c57d42",
   "metadata": {},
   "outputs": [],
   "source": [
    "import joblib\n",
    "from sklearn.ensemble import RandomForestRegressor\n",
    "from sklearn.tree import DecisionTreeRegressor\n",
    "from sklearn.metrics import recall_score\n",
    "from sklearn.metrics import precision_score\n",
    "from sklearn.metrics import r2_score\n",
    "from sklearn.metrics import explained_variance_score\n",
    "from sklearn.metrics import mean_squared_error"
   ]
  },
  {
   "cell_type": "code",
   "execution_count": 17,
   "id": "09b489e3",
   "metadata": {},
   "outputs": [],
   "source": [
    "regresor = RandomForestRegressor(n_estimators=10,random_state=0)\n",
    "regresor.fit(X_train_s, y_train)\n",
    "y_pred=regresor.predict(X_test_s)"
   ]
  },
  {
   "cell_type": "code",
   "execution_count": 18,
   "id": "51a1a6b4",
   "metadata": {},
   "outputs": [
    {
     "data": {
      "text/plain": [
       "0.8255752323829513"
      ]
     },
     "execution_count": 18,
     "metadata": {},
     "output_type": "execute_result"
    }
   ],
   "source": [
    "r2_score(y_test, y_pred)"
   ]
  },
  {
   "cell_type": "code",
   "execution_count": 19,
   "id": "2d01339e",
   "metadata": {},
   "outputs": [
    {
     "data": {
      "text/plain": [
       "0.8256463539336317"
      ]
     },
     "execution_count": 19,
     "metadata": {},
     "output_type": "execute_result"
    }
   ],
   "source": [
    "explained_variance_score(y_test, y_pred)"
   ]
  },
  {
   "cell_type": "code",
   "execution_count": 20,
   "id": "866b153d",
   "metadata": {},
   "outputs": [
    {
     "data": {
      "text/plain": [
       "13.234643193875014"
      ]
     },
     "execution_count": 20,
     "metadata": {},
     "output_type": "execute_result"
    }
   ],
   "source": [
    "mean_squared_error(y_test, y_pred)"
   ]
  },
  {
   "cell_type": "markdown",
   "id": "5df1b16d",
   "metadata": {},
   "source": [
    "#### Entrenamiento con Random Forest con 15 estimadores"
   ]
  },
  {
   "cell_type": "markdown",
   "id": "83c342ad",
   "metadata": {},
   "source": [
    "El puntaje de este modelo es el mejor hasta ahora, por lo que nos quedaremos con este modelo."
   ]
  },
  {
   "cell_type": "code",
   "execution_count": 21,
   "id": "aa0b0bf5",
   "metadata": {},
   "outputs": [],
   "source": [
    "regresor = RandomForestRegressor(n_estimators=15,random_state=0)\n",
    "regresor.fit(X_train_s, y_train)\n",
    "y_pred=regresor.predict(X_test_s)"
   ]
  },
  {
   "cell_type": "code",
   "execution_count": 22,
   "id": "91f58b90",
   "metadata": {},
   "outputs": [
    {
     "data": {
      "text/plain": [
       "0.8310299030115015"
      ]
     },
     "execution_count": 22,
     "metadata": {},
     "output_type": "execute_result"
    }
   ],
   "source": [
    "r2_score(y_test, y_pred)"
   ]
  },
  {
   "cell_type": "code",
   "execution_count": 23,
   "id": "cf1d5aa0",
   "metadata": {},
   "outputs": [
    {
     "data": {
      "text/plain": [
       "0.8311006509353349"
      ]
     },
     "execution_count": 23,
     "metadata": {},
     "output_type": "execute_result"
    }
   ],
   "source": [
    "explained_variance_score(y_test, y_pred)"
   ]
  },
  {
   "cell_type": "code",
   "execution_count": 24,
   "id": "6fd58cbe",
   "metadata": {},
   "outputs": [
    {
     "data": {
      "text/plain": [
       "12.820764932804504"
      ]
     },
     "execution_count": 24,
     "metadata": {},
     "output_type": "execute_result"
    }
   ],
   "source": [
    "mean_squared_error(y_test, y_pred)"
   ]
  },
  {
   "cell_type": "code",
   "execution_count": null,
   "id": "61b78490",
   "metadata": {},
   "outputs": [],
   "source": [
    "joblib.dump(regresor,'RF_15_2011.pkl')"
   ]
  },
  {
   "cell_type": "markdown",
   "id": "cb14fe4d",
   "metadata": {},
   "source": [
    "## Ensamble de Modelos"
   ]
  },
  {
   "cell_type": "markdown",
   "id": "e2a089fe",
   "metadata": {},
   "source": [
    "En este apartado se pretende usar los mejores modelos generados para el año 2009 y 2011, los que se guardados como RF_15_2009.pkl y RF_15_2011.pkl, la idea principal es generar un modelo conjunto para predecir el costo de tarifa para los registros con años 2009 y 2011.\n",
    "\n",
    "Para esto se detallan los siguientes pasos:\n",
    "\n",
    "* Cargar los modelos usando joblib.load('RF_15_2009.pkl') y joblib.load('RF_15_2011.pkl')\n",
    "* Usar solo la data de test previamente separada y guardada en los archivos data_reduce_2019_test.csv y data_reduce_2011_test.csv y generar una combinacion aleatoria de estos registros y llenar un dataframe de test.\n",
    "* Realizar las predicciones segun la key de registro:\n",
    " Si key=2009 entonces usar RF_15_2009.pkl .\n",
    " Si key=2011 usar RF_15_2011.pkl.\n",
    "* La Puntuación de este modelo ensamblado debería tener una puntuación promedio de los dos modelos."
   ]
  }
 ],
 "metadata": {
  "kernelspec": {
   "display_name": "Python 3",
   "language": "python",
   "name": "python3"
  },
  "language_info": {
   "codemirror_mode": {
    "name": "ipython",
    "version": 3
   },
   "file_extension": ".py",
   "mimetype": "text/x-python",
   "name": "python",
   "nbconvert_exporter": "python",
   "pygments_lexer": "ipython3",
   "version": "3.5.2"
  }
 },
 "nbformat": 4,
 "nbformat_minor": 5
}
